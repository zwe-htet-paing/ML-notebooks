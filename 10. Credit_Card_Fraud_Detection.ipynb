{
 "cells": [
  {
   "cell_type": "markdown",
   "metadata": {
    "id": "kwUER6ECu5VO"
   },
   "source": [
    "Dataset: https://www.kaggle.com/mlg-ulb/creditcardfraud\n",
    "\n"
   ]
  },
  {
   "cell_type": "markdown",
   "metadata": {
    "id": "9BtB77f5u45B"
   },
   "source": [
    "Importing Dependencies"
   ]
  },
  {
   "cell_type": "code",
   "execution_count": 2,
   "metadata": {
    "id": "bKPBZV54uutR"
   },
   "outputs": [],
   "source": [
    "import numpy as np\n",
    "import pandas as pd\n",
    "from sklearn.model_selection import train_test_split\n",
    "from sklearn.linear_model import LogisticRegression\n",
    "from sklearn.metrics import accuracy_score"
   ]
  },
  {
   "cell_type": "markdown",
   "metadata": {
    "id": "k7mgInyev7ep"
   },
   "source": [
    "Data Collection and pre-processing"
   ]
  },
  {
   "cell_type": "code",
   "execution_count": 3,
   "metadata": {
    "id": "tLpbj2KJv5fe"
   },
   "outputs": [],
   "source": [
    "creditcard_dataset = pd.read_csv('/content/creditcard.csv')"
   ]
  },
  {
   "cell_type": "code",
   "execution_count": 4,
   "metadata": {
    "colab": {
     "base_uri": "https://localhost:8080/",
     "height": 224
    },
    "id": "X7dVzTXJ3dlE",
    "outputId": "7f4ff86a-4b25-438c-c6ca-770b01c8eca8"
   },
   "outputs": [
    {
     "data": {
      "text/html": [
       "<div>\n",
       "<style scoped>\n",
       "    .dataframe tbody tr th:only-of-type {\n",
       "        vertical-align: middle;\n",
       "    }\n",
       "\n",
       "    .dataframe tbody tr th {\n",
       "        vertical-align: top;\n",
       "    }\n",
       "\n",
       "    .dataframe thead th {\n",
       "        text-align: right;\n",
       "    }\n",
       "</style>\n",
       "<table border=\"1\" class=\"dataframe\">\n",
       "  <thead>\n",
       "    <tr style=\"text-align: right;\">\n",
       "      <th></th>\n",
       "      <th>Time</th>\n",
       "      <th>V1</th>\n",
       "      <th>V2</th>\n",
       "      <th>V3</th>\n",
       "      <th>V4</th>\n",
       "      <th>V5</th>\n",
       "      <th>V6</th>\n",
       "      <th>V7</th>\n",
       "      <th>V8</th>\n",
       "      <th>V9</th>\n",
       "      <th>V10</th>\n",
       "      <th>V11</th>\n",
       "      <th>V12</th>\n",
       "      <th>V13</th>\n",
       "      <th>V14</th>\n",
       "      <th>V15</th>\n",
       "      <th>V16</th>\n",
       "      <th>V17</th>\n",
       "      <th>V18</th>\n",
       "      <th>V19</th>\n",
       "      <th>V20</th>\n",
       "      <th>V21</th>\n",
       "      <th>V22</th>\n",
       "      <th>V23</th>\n",
       "      <th>V24</th>\n",
       "      <th>V25</th>\n",
       "      <th>V26</th>\n",
       "      <th>V27</th>\n",
       "      <th>V28</th>\n",
       "      <th>Amount</th>\n",
       "      <th>Class</th>\n",
       "    </tr>\n",
       "  </thead>\n",
       "  <tbody>\n",
       "    <tr>\n",
       "      <th>0</th>\n",
       "      <td>0.0</td>\n",
       "      <td>-1.359807</td>\n",
       "      <td>-0.072781</td>\n",
       "      <td>2.536347</td>\n",
       "      <td>1.378155</td>\n",
       "      <td>-0.338321</td>\n",
       "      <td>0.462388</td>\n",
       "      <td>0.239599</td>\n",
       "      <td>0.098698</td>\n",
       "      <td>0.363787</td>\n",
       "      <td>0.090794</td>\n",
       "      <td>-0.551600</td>\n",
       "      <td>-0.617801</td>\n",
       "      <td>-0.991390</td>\n",
       "      <td>-0.311169</td>\n",
       "      <td>1.468177</td>\n",
       "      <td>-0.470401</td>\n",
       "      <td>0.207971</td>\n",
       "      <td>0.025791</td>\n",
       "      <td>0.403993</td>\n",
       "      <td>0.251412</td>\n",
       "      <td>-0.018307</td>\n",
       "      <td>0.277838</td>\n",
       "      <td>-0.110474</td>\n",
       "      <td>0.066928</td>\n",
       "      <td>0.128539</td>\n",
       "      <td>-0.189115</td>\n",
       "      <td>0.133558</td>\n",
       "      <td>-0.021053</td>\n",
       "      <td>149.62</td>\n",
       "      <td>0.0</td>\n",
       "    </tr>\n",
       "    <tr>\n",
       "      <th>1</th>\n",
       "      <td>0.0</td>\n",
       "      <td>1.191857</td>\n",
       "      <td>0.266151</td>\n",
       "      <td>0.166480</td>\n",
       "      <td>0.448154</td>\n",
       "      <td>0.060018</td>\n",
       "      <td>-0.082361</td>\n",
       "      <td>-0.078803</td>\n",
       "      <td>0.085102</td>\n",
       "      <td>-0.255425</td>\n",
       "      <td>-0.166974</td>\n",
       "      <td>1.612727</td>\n",
       "      <td>1.065235</td>\n",
       "      <td>0.489095</td>\n",
       "      <td>-0.143772</td>\n",
       "      <td>0.635558</td>\n",
       "      <td>0.463917</td>\n",
       "      <td>-0.114805</td>\n",
       "      <td>-0.183361</td>\n",
       "      <td>-0.145783</td>\n",
       "      <td>-0.069083</td>\n",
       "      <td>-0.225775</td>\n",
       "      <td>-0.638672</td>\n",
       "      <td>0.101288</td>\n",
       "      <td>-0.339846</td>\n",
       "      <td>0.167170</td>\n",
       "      <td>0.125895</td>\n",
       "      <td>-0.008983</td>\n",
       "      <td>0.014724</td>\n",
       "      <td>2.69</td>\n",
       "      <td>0.0</td>\n",
       "    </tr>\n",
       "    <tr>\n",
       "      <th>2</th>\n",
       "      <td>1.0</td>\n",
       "      <td>-1.358354</td>\n",
       "      <td>-1.340163</td>\n",
       "      <td>1.773209</td>\n",
       "      <td>0.379780</td>\n",
       "      <td>-0.503198</td>\n",
       "      <td>1.800499</td>\n",
       "      <td>0.791461</td>\n",
       "      <td>0.247676</td>\n",
       "      <td>-1.514654</td>\n",
       "      <td>0.207643</td>\n",
       "      <td>0.624501</td>\n",
       "      <td>0.066084</td>\n",
       "      <td>0.717293</td>\n",
       "      <td>-0.165946</td>\n",
       "      <td>2.345865</td>\n",
       "      <td>-2.890083</td>\n",
       "      <td>1.109969</td>\n",
       "      <td>-0.121359</td>\n",
       "      <td>-2.261857</td>\n",
       "      <td>0.524980</td>\n",
       "      <td>0.247998</td>\n",
       "      <td>0.771679</td>\n",
       "      <td>0.909412</td>\n",
       "      <td>-0.689281</td>\n",
       "      <td>-0.327642</td>\n",
       "      <td>-0.139097</td>\n",
       "      <td>-0.055353</td>\n",
       "      <td>-0.059752</td>\n",
       "      <td>378.66</td>\n",
       "      <td>0.0</td>\n",
       "    </tr>\n",
       "    <tr>\n",
       "      <th>3</th>\n",
       "      <td>1.0</td>\n",
       "      <td>-0.966272</td>\n",
       "      <td>-0.185226</td>\n",
       "      <td>1.792993</td>\n",
       "      <td>-0.863291</td>\n",
       "      <td>-0.010309</td>\n",
       "      <td>1.247203</td>\n",
       "      <td>0.237609</td>\n",
       "      <td>0.377436</td>\n",
       "      <td>-1.387024</td>\n",
       "      <td>-0.054952</td>\n",
       "      <td>-0.226487</td>\n",
       "      <td>0.178228</td>\n",
       "      <td>0.507757</td>\n",
       "      <td>-0.287924</td>\n",
       "      <td>-0.631418</td>\n",
       "      <td>-1.059647</td>\n",
       "      <td>-0.684093</td>\n",
       "      <td>1.965775</td>\n",
       "      <td>-1.232622</td>\n",
       "      <td>-0.208038</td>\n",
       "      <td>-0.108300</td>\n",
       "      <td>0.005274</td>\n",
       "      <td>-0.190321</td>\n",
       "      <td>-1.175575</td>\n",
       "      <td>0.647376</td>\n",
       "      <td>-0.221929</td>\n",
       "      <td>0.062723</td>\n",
       "      <td>0.061458</td>\n",
       "      <td>123.50</td>\n",
       "      <td>0.0</td>\n",
       "    </tr>\n",
       "    <tr>\n",
       "      <th>4</th>\n",
       "      <td>2.0</td>\n",
       "      <td>-1.158233</td>\n",
       "      <td>0.877737</td>\n",
       "      <td>1.548718</td>\n",
       "      <td>0.403034</td>\n",
       "      <td>-0.407193</td>\n",
       "      <td>0.095921</td>\n",
       "      <td>0.592941</td>\n",
       "      <td>-0.270533</td>\n",
       "      <td>0.817739</td>\n",
       "      <td>0.753074</td>\n",
       "      <td>-0.822843</td>\n",
       "      <td>0.538196</td>\n",
       "      <td>1.345852</td>\n",
       "      <td>-1.119670</td>\n",
       "      <td>0.175121</td>\n",
       "      <td>-0.451449</td>\n",
       "      <td>-0.237033</td>\n",
       "      <td>-0.038195</td>\n",
       "      <td>0.803487</td>\n",
       "      <td>0.408542</td>\n",
       "      <td>-0.009431</td>\n",
       "      <td>0.798278</td>\n",
       "      <td>-0.137458</td>\n",
       "      <td>0.141267</td>\n",
       "      <td>-0.206010</td>\n",
       "      <td>0.502292</td>\n",
       "      <td>0.219422</td>\n",
       "      <td>0.215153</td>\n",
       "      <td>69.99</td>\n",
       "      <td>0.0</td>\n",
       "    </tr>\n",
       "  </tbody>\n",
       "</table>\n",
       "</div>"
      ],
      "text/plain": [
       "   Time        V1        V2        V3  ...       V27       V28  Amount  Class\n",
       "0   0.0 -1.359807 -0.072781  2.536347  ...  0.133558 -0.021053  149.62    0.0\n",
       "1   0.0  1.191857  0.266151  0.166480  ... -0.008983  0.014724    2.69    0.0\n",
       "2   1.0 -1.358354 -1.340163  1.773209  ... -0.055353 -0.059752  378.66    0.0\n",
       "3   1.0 -0.966272 -0.185226  1.792993  ...  0.062723  0.061458  123.50    0.0\n",
       "4   2.0 -1.158233  0.877737  1.548718  ...  0.219422  0.215153   69.99    0.0\n",
       "\n",
       "[5 rows x 31 columns]"
      ]
     },
     "execution_count": 4,
     "metadata": {
      "tags": []
     },
     "output_type": "execute_result"
    }
   ],
   "source": [
    "creditcard_dataset.head()"
   ]
  },
  {
   "cell_type": "code",
   "execution_count": 5,
   "metadata": {
    "colab": {
     "base_uri": "https://localhost:8080/",
     "height": 224
    },
    "id": "GWS15mEw31S2",
    "outputId": "555c5848-0f41-49cb-8465-f7140a518dfe"
   },
   "outputs": [
    {
     "data": {
      "text/html": [
       "<div>\n",
       "<style scoped>\n",
       "    .dataframe tbody tr th:only-of-type {\n",
       "        vertical-align: middle;\n",
       "    }\n",
       "\n",
       "    .dataframe tbody tr th {\n",
       "        vertical-align: top;\n",
       "    }\n",
       "\n",
       "    .dataframe thead th {\n",
       "        text-align: right;\n",
       "    }\n",
       "</style>\n",
       "<table border=\"1\" class=\"dataframe\">\n",
       "  <thead>\n",
       "    <tr style=\"text-align: right;\">\n",
       "      <th></th>\n",
       "      <th>Time</th>\n",
       "      <th>V1</th>\n",
       "      <th>V2</th>\n",
       "      <th>V3</th>\n",
       "      <th>V4</th>\n",
       "      <th>V5</th>\n",
       "      <th>V6</th>\n",
       "      <th>V7</th>\n",
       "      <th>V8</th>\n",
       "      <th>V9</th>\n",
       "      <th>V10</th>\n",
       "      <th>V11</th>\n",
       "      <th>V12</th>\n",
       "      <th>V13</th>\n",
       "      <th>V14</th>\n",
       "      <th>V15</th>\n",
       "      <th>V16</th>\n",
       "      <th>V17</th>\n",
       "      <th>V18</th>\n",
       "      <th>V19</th>\n",
       "      <th>V20</th>\n",
       "      <th>V21</th>\n",
       "      <th>V22</th>\n",
       "      <th>V23</th>\n",
       "      <th>V24</th>\n",
       "      <th>V25</th>\n",
       "      <th>V26</th>\n",
       "      <th>V27</th>\n",
       "      <th>V28</th>\n",
       "      <th>Amount</th>\n",
       "      <th>Class</th>\n",
       "    </tr>\n",
       "  </thead>\n",
       "  <tbody>\n",
       "    <tr>\n",
       "      <th>211985</th>\n",
       "      <td>138661.0</td>\n",
       "      <td>0.126593</td>\n",
       "      <td>1.091750</td>\n",
       "      <td>-1.090496</td>\n",
       "      <td>0.029851</td>\n",
       "      <td>0.211015</td>\n",
       "      <td>-1.389972</td>\n",
       "      <td>0.777739</td>\n",
       "      <td>0.060607</td>\n",
       "      <td>-0.254675</td>\n",
       "      <td>-1.218149</td>\n",
       "      <td>-0.533131</td>\n",
       "      <td>0.164103</td>\n",
       "      <td>0.519459</td>\n",
       "      <td>-0.717532</td>\n",
       "      <td>0.605814</td>\n",
       "      <td>0.223796</td>\n",
       "      <td>0.639856</td>\n",
       "      <td>0.711497</td>\n",
       "      <td>-0.284458</td>\n",
       "      <td>-0.113230</td>\n",
       "      <td>0.354405</td>\n",
       "      <td>0.970889</td>\n",
       "      <td>0.005842</td>\n",
       "      <td>-0.024038</td>\n",
       "      <td>-0.235721</td>\n",
       "      <td>-0.155495</td>\n",
       "      <td>-0.079447</td>\n",
       "      <td>-0.040075</td>\n",
       "      <td>54.00</td>\n",
       "      <td>0.0</td>\n",
       "    </tr>\n",
       "    <tr>\n",
       "      <th>211986</th>\n",
       "      <td>138662.0</td>\n",
       "      <td>2.019604</td>\n",
       "      <td>0.016811</td>\n",
       "      <td>-1.631122</td>\n",
       "      <td>0.358207</td>\n",
       "      <td>0.261196</td>\n",
       "      <td>-0.696347</td>\n",
       "      <td>-0.007064</td>\n",
       "      <td>-0.023775</td>\n",
       "      <td>0.428041</td>\n",
       "      <td>-0.169129</td>\n",
       "      <td>1.065855</td>\n",
       "      <td>0.171869</td>\n",
       "      <td>-1.416890</td>\n",
       "      <td>-0.365410</td>\n",
       "      <td>-0.359442</td>\n",
       "      <td>0.522049</td>\n",
       "      <td>0.368733</td>\n",
       "      <td>0.293680</td>\n",
       "      <td>0.281282</td>\n",
       "      <td>-0.240088</td>\n",
       "      <td>-0.316812</td>\n",
       "      <td>-0.908902</td>\n",
       "      <td>0.367657</td>\n",
       "      <td>0.632420</td>\n",
       "      <td>-0.359037</td>\n",
       "      <td>0.147238</td>\n",
       "      <td>-0.075019</td>\n",
       "      <td>-0.041810</td>\n",
       "      <td>0.89</td>\n",
       "      <td>0.0</td>\n",
       "    </tr>\n",
       "    <tr>\n",
       "      <th>211987</th>\n",
       "      <td>138663.0</td>\n",
       "      <td>-0.980098</td>\n",
       "      <td>0.193904</td>\n",
       "      <td>0.467762</td>\n",
       "      <td>-1.136218</td>\n",
       "      <td>1.802785</td>\n",
       "      <td>-0.899924</td>\n",
       "      <td>0.929753</td>\n",
       "      <td>-0.441782</td>\n",
       "      <td>0.179331</td>\n",
       "      <td>-0.381477</td>\n",
       "      <td>-1.903448</td>\n",
       "      <td>-0.571882</td>\n",
       "      <td>-0.362818</td>\n",
       "      <td>-0.099732</td>\n",
       "      <td>-0.472518</td>\n",
       "      <td>0.305548</td>\n",
       "      <td>-1.038977</td>\n",
       "      <td>-0.441934</td>\n",
       "      <td>-0.050883</td>\n",
       "      <td>-0.307918</td>\n",
       "      <td>-0.359459</td>\n",
       "      <td>-0.846367</td>\n",
       "      <td>-0.372509</td>\n",
       "      <td>-0.998011</td>\n",
       "      <td>-0.195955</td>\n",
       "      <td>0.103837</td>\n",
       "      <td>-0.320588</td>\n",
       "      <td>-0.058237</td>\n",
       "      <td>6.70</td>\n",
       "      <td>0.0</td>\n",
       "    </tr>\n",
       "    <tr>\n",
       "      <th>211988</th>\n",
       "      <td>138663.0</td>\n",
       "      <td>-0.045674</td>\n",
       "      <td>0.094610</td>\n",
       "      <td>1.067176</td>\n",
       "      <td>-0.663305</td>\n",
       "      <td>-0.537060</td>\n",
       "      <td>-0.482020</td>\n",
       "      <td>0.413272</td>\n",
       "      <td>0.006145</td>\n",
       "      <td>0.845524</td>\n",
       "      <td>-0.943416</td>\n",
       "      <td>-1.218708</td>\n",
       "      <td>-0.074031</td>\n",
       "      <td>-0.344699</td>\n",
       "      <td>-0.255143</td>\n",
       "      <td>0.102207</td>\n",
       "      <td>0.144802</td>\n",
       "      <td>-0.551612</td>\n",
       "      <td>0.325032</td>\n",
       "      <td>-0.340933</td>\n",
       "      <td>-0.030194</td>\n",
       "      <td>0.295790</td>\n",
       "      <td>0.889576</td>\n",
       "      <td>0.055431</td>\n",
       "      <td>0.065424</td>\n",
       "      <td>-0.405274</td>\n",
       "      <td>0.046882</td>\n",
       "      <td>0.061729</td>\n",
       "      <td>0.057997</td>\n",
       "      <td>79.95</td>\n",
       "      <td>0.0</td>\n",
       "    </tr>\n",
       "    <tr>\n",
       "      <th>211989</th>\n",
       "      <td>138664.0</td>\n",
       "      <td>-0.154159</td>\n",
       "      <td>-0.169538</td>\n",
       "      <td>0.104102</td>\n",
       "      <td>0.801081</td>\n",
       "      <td>1.127058</td>\n",
       "      <td>1.496279</td>\n",
       "      <td>-0.272910</td>\n",
       "      <td>0.517337</td>\n",
       "      <td>0.183614</td>\n",
       "      <td>NaN</td>\n",
       "      <td>NaN</td>\n",
       "      <td>NaN</td>\n",
       "      <td>NaN</td>\n",
       "      <td>NaN</td>\n",
       "      <td>NaN</td>\n",
       "      <td>NaN</td>\n",
       "      <td>NaN</td>\n",
       "      <td>NaN</td>\n",
       "      <td>NaN</td>\n",
       "      <td>NaN</td>\n",
       "      <td>NaN</td>\n",
       "      <td>NaN</td>\n",
       "      <td>NaN</td>\n",
       "      <td>NaN</td>\n",
       "      <td>NaN</td>\n",
       "      <td>NaN</td>\n",
       "      <td>NaN</td>\n",
       "      <td>NaN</td>\n",
       "      <td>NaN</td>\n",
       "      <td>NaN</td>\n",
       "    </tr>\n",
       "  </tbody>\n",
       "</table>\n",
       "</div>"
      ],
      "text/plain": [
       "            Time        V1        V2  ...       V28  Amount  Class\n",
       "211985  138661.0  0.126593  1.091750  ... -0.040075   54.00    0.0\n",
       "211986  138662.0  2.019604  0.016811  ... -0.041810    0.89    0.0\n",
       "211987  138663.0 -0.980098  0.193904  ... -0.058237    6.70    0.0\n",
       "211988  138663.0 -0.045674  0.094610  ...  0.057997   79.95    0.0\n",
       "211989  138664.0 -0.154159 -0.169538  ...       NaN     NaN    NaN\n",
       "\n",
       "[5 rows x 31 columns]"
      ]
     },
     "execution_count": 5,
     "metadata": {
      "tags": []
     },
     "output_type": "execute_result"
    }
   ],
   "source": [
    "creditcard_dataset.tail()"
   ]
  },
  {
   "cell_type": "code",
   "execution_count": 6,
   "metadata": {
    "colab": {
     "base_uri": "https://localhost:8080/"
    },
    "id": "Zu8_hatA3i3x",
    "outputId": "5d1b3587-aff0-4316-c9a1-ecddf212861e"
   },
   "outputs": [
    {
     "data": {
      "text/plain": [
       "(211990, 31)"
      ]
     },
     "execution_count": 6,
     "metadata": {
      "tags": []
     },
     "output_type": "execute_result"
    }
   ],
   "source": [
    "creditcard_dataset.shape"
   ]
  },
  {
   "cell_type": "code",
   "execution_count": 7,
   "metadata": {
    "colab": {
     "base_uri": "https://localhost:8080/"
    },
    "id": "Q5ozdtM7371C",
    "outputId": "7d423147-82a9-4c37-c7b4-1791ce56a770"
   },
   "outputs": [
    {
     "name": "stdout",
     "output_type": "stream",
     "text": [
      "<class 'pandas.core.frame.DataFrame'>\n",
      "RangeIndex: 211990 entries, 0 to 211989\n",
      "Data columns (total 31 columns):\n",
      " #   Column  Non-Null Count   Dtype  \n",
      "---  ------  --------------   -----  \n",
      " 0   Time    211990 non-null  float64\n",
      " 1   V1      211990 non-null  float64\n",
      " 2   V2      211990 non-null  float64\n",
      " 3   V3      211990 non-null  float64\n",
      " 4   V4      211990 non-null  float64\n",
      " 5   V5      211990 non-null  float64\n",
      " 6   V6      211990 non-null  float64\n",
      " 7   V7      211990 non-null  float64\n",
      " 8   V8      211990 non-null  float64\n",
      " 9   V9      211990 non-null  float64\n",
      " 10  V10     211989 non-null  float64\n",
      " 11  V11     211989 non-null  float64\n",
      " 12  V12     211989 non-null  float64\n",
      " 13  V13     211989 non-null  float64\n",
      " 14  V14     211989 non-null  float64\n",
      " 15  V15     211989 non-null  float64\n",
      " 16  V16     211989 non-null  float64\n",
      " 17  V17     211989 non-null  float64\n",
      " 18  V18     211989 non-null  float64\n",
      " 19  V19     211989 non-null  float64\n",
      " 20  V20     211989 non-null  float64\n",
      " 21  V21     211989 non-null  float64\n",
      " 22  V22     211989 non-null  float64\n",
      " 23  V23     211989 non-null  float64\n",
      " 24  V24     211989 non-null  float64\n",
      " 25  V25     211989 non-null  float64\n",
      " 26  V26     211989 non-null  float64\n",
      " 27  V27     211989 non-null  float64\n",
      " 28  V28     211989 non-null  float64\n",
      " 29  Amount  211989 non-null  float64\n",
      " 30  Class   211989 non-null  float64\n",
      "dtypes: float64(31)\n",
      "memory usage: 50.1 MB\n"
     ]
    }
   ],
   "source": [
    "creditcard_dataset.info()"
   ]
  },
  {
   "cell_type": "code",
   "execution_count": 8,
   "metadata": {
    "colab": {
     "base_uri": "https://localhost:8080/"
    },
    "id": "99yx43bc4DV7",
    "outputId": "37051d03-90ea-4da9-8a41-44cc454d2110"
   },
   "outputs": [
    {
     "data": {
      "text/plain": [
       "Time      0\n",
       "V1        0\n",
       "V2        0\n",
       "V3        0\n",
       "V4        0\n",
       "V5        0\n",
       "V6        0\n",
       "V7        0\n",
       "V8        0\n",
       "V9        0\n",
       "V10       1\n",
       "V11       1\n",
       "V12       1\n",
       "V13       1\n",
       "V14       1\n",
       "V15       1\n",
       "V16       1\n",
       "V17       1\n",
       "V18       1\n",
       "V19       1\n",
       "V20       1\n",
       "V21       1\n",
       "V22       1\n",
       "V23       1\n",
       "V24       1\n",
       "V25       1\n",
       "V26       1\n",
       "V27       1\n",
       "V28       1\n",
       "Amount    1\n",
       "Class     1\n",
       "dtype: int64"
      ]
     },
     "execution_count": 8,
     "metadata": {
      "tags": []
     },
     "output_type": "execute_result"
    }
   ],
   "source": [
    "creditcard_dataset.isnull().sum()"
   ]
  },
  {
   "cell_type": "code",
   "execution_count": 10,
   "metadata": {
    "id": "i5ZAabQH4LJt"
   },
   "outputs": [],
   "source": [
    "# dropping the missing values\n",
    "credictcard_dataset = creditcard_dataset.dropna()"
   ]
  },
  {
   "cell_type": "code",
   "execution_count": 11,
   "metadata": {
    "colab": {
     "base_uri": "https://localhost:8080/"
    },
    "id": "3A1ecCbC4sIa",
    "outputId": "c2abe275-2df7-4069-8c3d-19dd1eb5e6bd"
   },
   "outputs": [
    {
     "data": {
      "text/plain": [
       "Time      0\n",
       "V1        0\n",
       "V2        0\n",
       "V3        0\n",
       "V4        0\n",
       "V5        0\n",
       "V6        0\n",
       "V7        0\n",
       "V8        0\n",
       "V9        0\n",
       "V10       0\n",
       "V11       0\n",
       "V12       0\n",
       "V13       0\n",
       "V14       0\n",
       "V15       0\n",
       "V16       0\n",
       "V17       0\n",
       "V18       0\n",
       "V19       0\n",
       "V20       0\n",
       "V21       0\n",
       "V22       0\n",
       "V23       0\n",
       "V24       0\n",
       "V25       0\n",
       "V26       0\n",
       "V27       0\n",
       "V28       0\n",
       "Amount    0\n",
       "Class     0\n",
       "dtype: int64"
      ]
     },
     "execution_count": 11,
     "metadata": {
      "tags": []
     },
     "output_type": "execute_result"
    }
   ],
   "source": [
    "credictcard_dataset.isnull().sum()"
   ]
  },
  {
   "cell_type": "code",
   "execution_count": 12,
   "metadata": {
    "colab": {
     "base_uri": "https://localhost:8080/"
    },
    "id": "tIPWMsDU46S_",
    "outputId": "a16015b8-e0db-4590-8714-a8c93c57aad2"
   },
   "outputs": [
    {
     "data": {
      "text/plain": [
       "0.0    211595\n",
       "1.0       394\n",
       "Name: Class, dtype: int64"
      ]
     },
     "execution_count": 12,
     "metadata": {
      "tags": []
     },
     "output_type": "execute_result"
    }
   ],
   "source": [
    "# distribution of legit transactions and fraudulent transactions\n",
    "creditcard_dataset['Class'].value_counts()"
   ]
  },
  {
   "cell_type": "markdown",
   "metadata": {
    "id": "mufb2E6L5eeT"
   },
   "source": [
    "The dataset is highly unbalance\n",
    "\n",
    "0.0 --> Normal Transaction\n",
    "\n",
    "1.0 --> Fraudulent Transaction"
   ]
  },
  {
   "cell_type": "code",
   "execution_count": 13,
   "metadata": {
    "id": "nkxgWU0V5Wh6"
   },
   "outputs": [],
   "source": [
    "# separating the data for analysis\n",
    "legit = creditcard_dataset[creditcard_dataset.Class == 0]\n",
    "fraud = creditcard_dataset[creditcard_dataset.Class == 1]"
   ]
  },
  {
   "cell_type": "code",
   "execution_count": 14,
   "metadata": {
    "colab": {
     "base_uri": "https://localhost:8080/"
    },
    "id": "YubKYztj6RIg",
    "outputId": "67dda0a8-0b27-4c17-b0b4-5996c941bbd3"
   },
   "outputs": [
    {
     "name": "stdout",
     "output_type": "stream",
     "text": [
      "(211595, 31)\n",
      "(394, 31)\n"
     ]
    }
   ],
   "source": [
    "print(legit.shape)\n",
    "print(fraud.shape)"
   ]
  },
  {
   "cell_type": "code",
   "execution_count": 15,
   "metadata": {
    "colab": {
     "base_uri": "https://localhost:8080/"
    },
    "id": "LoXF5EqT6YRo",
    "outputId": "8e65d46c-02ce-4aa2-8818-b3e709926fc6"
   },
   "outputs": [
    {
     "data": {
      "text/plain": [
       "count    211595.000000\n",
       "mean         90.042226\n",
       "std         248.388744\n",
       "min           0.000000\n",
       "25%           6.000000\n",
       "50%          23.080000\n",
       "75%          79.600000\n",
       "max       19656.530000\n",
       "Name: Amount, dtype: float64"
      ]
     },
     "execution_count": 15,
     "metadata": {
      "tags": []
     },
     "output_type": "execute_result"
    }
   ],
   "source": [
    "# statistical measures of data\n",
    "legit.Amount.describe()"
   ]
  },
  {
   "cell_type": "code",
   "execution_count": 16,
   "metadata": {
    "colab": {
     "base_uri": "https://localhost:8080/"
    },
    "id": "y5N1IqnG6yCb",
    "outputId": "4828148a-ece3-4399-a46a-b6abb7267b68"
   },
   "outputs": [
    {
     "data": {
      "text/plain": [
       "count     394.000000\n",
       "mean      123.172970\n",
       "std       256.841767\n",
       "min         0.000000\n",
       "25%         1.000000\n",
       "50%        13.385000\n",
       "75%       105.890000\n",
       "max      2125.870000\n",
       "Name: Amount, dtype: float64"
      ]
     },
     "execution_count": 16,
     "metadata": {
      "tags": []
     },
     "output_type": "execute_result"
    }
   ],
   "source": [
    "fraud.Amount.describe()"
   ]
  },
  {
   "cell_type": "code",
   "execution_count": 17,
   "metadata": {
    "colab": {
     "base_uri": "https://localhost:8080/",
     "height": 162
    },
    "id": "WsUYFpHM65FE",
    "outputId": "7dbe950b-b2b9-4b87-bcda-16f3d173e3ef"
   },
   "outputs": [
    {
     "data": {
      "text/html": [
       "<div>\n",
       "<style scoped>\n",
       "    .dataframe tbody tr th:only-of-type {\n",
       "        vertical-align: middle;\n",
       "    }\n",
       "\n",
       "    .dataframe tbody tr th {\n",
       "        vertical-align: top;\n",
       "    }\n",
       "\n",
       "    .dataframe thead th {\n",
       "        text-align: right;\n",
       "    }\n",
       "</style>\n",
       "<table border=\"1\" class=\"dataframe\">\n",
       "  <thead>\n",
       "    <tr style=\"text-align: right;\">\n",
       "      <th></th>\n",
       "      <th>Time</th>\n",
       "      <th>V1</th>\n",
       "      <th>V2</th>\n",
       "      <th>V3</th>\n",
       "      <th>V4</th>\n",
       "      <th>V5</th>\n",
       "      <th>V6</th>\n",
       "      <th>V7</th>\n",
       "      <th>V8</th>\n",
       "      <th>V9</th>\n",
       "      <th>V10</th>\n",
       "      <th>V11</th>\n",
       "      <th>V12</th>\n",
       "      <th>V13</th>\n",
       "      <th>V14</th>\n",
       "      <th>V15</th>\n",
       "      <th>V16</th>\n",
       "      <th>V17</th>\n",
       "      <th>V18</th>\n",
       "      <th>V19</th>\n",
       "      <th>V20</th>\n",
       "      <th>V21</th>\n",
       "      <th>V22</th>\n",
       "      <th>V23</th>\n",
       "      <th>V24</th>\n",
       "      <th>V25</th>\n",
       "      <th>V26</th>\n",
       "      <th>V27</th>\n",
       "      <th>V28</th>\n",
       "      <th>Amount</th>\n",
       "    </tr>\n",
       "    <tr>\n",
       "      <th>Class</th>\n",
       "      <th></th>\n",
       "      <th></th>\n",
       "      <th></th>\n",
       "      <th></th>\n",
       "      <th></th>\n",
       "      <th></th>\n",
       "      <th></th>\n",
       "      <th></th>\n",
       "      <th></th>\n",
       "      <th></th>\n",
       "      <th></th>\n",
       "      <th></th>\n",
       "      <th></th>\n",
       "      <th></th>\n",
       "      <th></th>\n",
       "      <th></th>\n",
       "      <th></th>\n",
       "      <th></th>\n",
       "      <th></th>\n",
       "      <th></th>\n",
       "      <th></th>\n",
       "      <th></th>\n",
       "      <th></th>\n",
       "      <th></th>\n",
       "      <th></th>\n",
       "      <th></th>\n",
       "      <th></th>\n",
       "      <th></th>\n",
       "      <th></th>\n",
       "      <th></th>\n",
       "    </tr>\n",
       "  </thead>\n",
       "  <tbody>\n",
       "    <tr>\n",
       "      <th>0.0</th>\n",
       "      <td>74359.763841</td>\n",
       "      <td>-0.072238</td>\n",
       "      <td>-0.011782</td>\n",
       "      <td>0.270715</td>\n",
       "      <td>0.051800</td>\n",
       "      <td>-0.080088</td>\n",
       "      <td>0.042957</td>\n",
       "      <td>-0.026117</td>\n",
       "      <td>0.009499</td>\n",
       "      <td>0.011594</td>\n",
       "      <td>0.005119</td>\n",
       "      <td>0.095974</td>\n",
       "      <td>-0.045296</td>\n",
       "      <td>0.027504</td>\n",
       "      <td>0.05470</td>\n",
       "      <td>0.068299</td>\n",
       "      <td>0.002298</td>\n",
       "      <td>0.034431</td>\n",
       "      <td>-0.023693</td>\n",
       "      <td>-0.012464</td>\n",
       "      <td>0.014673</td>\n",
       "      <td>-0.012361</td>\n",
       "      <td>-0.035611</td>\n",
       "      <td>-0.013333</td>\n",
       "      <td>0.002860</td>\n",
       "      <td>0.049997</td>\n",
       "      <td>0.004210</td>\n",
       "      <td>0.000488</td>\n",
       "      <td>0.001359</td>\n",
       "      <td>90.042226</td>\n",
       "    </tr>\n",
       "    <tr>\n",
       "      <th>1.0</th>\n",
       "      <td>62970.449239</td>\n",
       "      <td>-5.564086</td>\n",
       "      <td>4.145138</td>\n",
       "      <td>-7.653811</td>\n",
       "      <td>4.735781</td>\n",
       "      <td>-4.009483</td>\n",
       "      <td>-1.393320</td>\n",
       "      <td>-6.501846</td>\n",
       "      <td>0.664570</td>\n",
       "      <td>-2.742972</td>\n",
       "      <td>-6.297907</td>\n",
       "      <td>4.132689</td>\n",
       "      <td>-6.874328</td>\n",
       "      <td>-0.026073</td>\n",
       "      <td>-7.13445</td>\n",
       "      <td>-0.086965</td>\n",
       "      <td>-4.663927</td>\n",
       "      <td>-7.628833</td>\n",
       "      <td>-2.670136</td>\n",
       "      <td>0.770470</td>\n",
       "      <td>0.394589</td>\n",
       "      <td>0.778108</td>\n",
       "      <td>-0.012420</td>\n",
       "      <td>-0.048604</td>\n",
       "      <td>-0.067137</td>\n",
       "      <td>0.065962</td>\n",
       "      <td>0.038256</td>\n",
       "      <td>0.182273</td>\n",
       "      <td>0.060390</td>\n",
       "      <td>123.172970</td>\n",
       "    </tr>\n",
       "  </tbody>\n",
       "</table>\n",
       "</div>"
      ],
      "text/plain": [
       "               Time        V1        V2  ...       V27       V28      Amount\n",
       "Class                                    ...                                \n",
       "0.0    74359.763841 -0.072238 -0.011782  ...  0.000488  0.001359   90.042226\n",
       "1.0    62970.449239 -5.564086  4.145138  ...  0.182273  0.060390  123.172970\n",
       "\n",
       "[2 rows x 30 columns]"
      ]
     },
     "execution_count": 17,
     "metadata": {
      "tags": []
     },
     "output_type": "execute_result"
    }
   ],
   "source": [
    "# Compare the values for both transaction\n",
    "creditcard_dataset.groupby('Class').mean()"
   ]
  },
  {
   "cell_type": "markdown",
   "metadata": {
    "id": "X8fDUNjC7T-4"
   },
   "source": [
    "Under-Sampling\n",
    "\n",
    "Build a sample dataset containing similar distribution of normal transactions and fraudulelnt transactions\n",
    "\n",
    "Number of Fraudulent transactions --> 394"
   ]
  },
  {
   "cell_type": "code",
   "execution_count": 18,
   "metadata": {
    "id": "03PtNyUo7GMu"
   },
   "outputs": [],
   "source": [
    "legit_sample = legit.sample(n=394)"
   ]
  },
  {
   "cell_type": "code",
   "execution_count": 20,
   "metadata": {
    "id": "mOCQhWm_70-v"
   },
   "outputs": [],
   "source": [
    "# Concatenating two Datframes\n",
    "new_dataset = pd.concat([legit_sample, fraud], axis=0)"
   ]
  },
  {
   "cell_type": "code",
   "execution_count": 21,
   "metadata": {
    "colab": {
     "base_uri": "https://localhost:8080/",
     "height": 224
    },
    "id": "TfqDoqLK8zMp",
    "outputId": "e5a28e2a-def5-48f3-c7f5-1a088e504f6c"
   },
   "outputs": [
    {
     "data": {
      "text/html": [
       "<div>\n",
       "<style scoped>\n",
       "    .dataframe tbody tr th:only-of-type {\n",
       "        vertical-align: middle;\n",
       "    }\n",
       "\n",
       "    .dataframe tbody tr th {\n",
       "        vertical-align: top;\n",
       "    }\n",
       "\n",
       "    .dataframe thead th {\n",
       "        text-align: right;\n",
       "    }\n",
       "</style>\n",
       "<table border=\"1\" class=\"dataframe\">\n",
       "  <thead>\n",
       "    <tr style=\"text-align: right;\">\n",
       "      <th></th>\n",
       "      <th>Time</th>\n",
       "      <th>V1</th>\n",
       "      <th>V2</th>\n",
       "      <th>V3</th>\n",
       "      <th>V4</th>\n",
       "      <th>V5</th>\n",
       "      <th>V6</th>\n",
       "      <th>V7</th>\n",
       "      <th>V8</th>\n",
       "      <th>V9</th>\n",
       "      <th>V10</th>\n",
       "      <th>V11</th>\n",
       "      <th>V12</th>\n",
       "      <th>V13</th>\n",
       "      <th>V14</th>\n",
       "      <th>V15</th>\n",
       "      <th>V16</th>\n",
       "      <th>V17</th>\n",
       "      <th>V18</th>\n",
       "      <th>V19</th>\n",
       "      <th>V20</th>\n",
       "      <th>V21</th>\n",
       "      <th>V22</th>\n",
       "      <th>V23</th>\n",
       "      <th>V24</th>\n",
       "      <th>V25</th>\n",
       "      <th>V26</th>\n",
       "      <th>V27</th>\n",
       "      <th>V28</th>\n",
       "      <th>Amount</th>\n",
       "      <th>Class</th>\n",
       "    </tr>\n",
       "  </thead>\n",
       "  <tbody>\n",
       "    <tr>\n",
       "      <th>18952</th>\n",
       "      <td>29901.0</td>\n",
       "      <td>-0.709172</td>\n",
       "      <td>0.676096</td>\n",
       "      <td>2.198247</td>\n",
       "      <td>2.861683</td>\n",
       "      <td>0.383797</td>\n",
       "      <td>1.401831</td>\n",
       "      <td>0.143505</td>\n",
       "      <td>0.304780</td>\n",
       "      <td>-0.837294</td>\n",
       "      <td>1.059543</td>\n",
       "      <td>1.190315</td>\n",
       "      <td>-0.204400</td>\n",
       "      <td>-1.589309</td>\n",
       "      <td>0.116865</td>\n",
       "      <td>0.194929</td>\n",
       "      <td>-0.843402</td>\n",
       "      <td>0.676381</td>\n",
       "      <td>-0.606723</td>\n",
       "      <td>0.800039</td>\n",
       "      <td>-0.046470</td>\n",
       "      <td>-0.202360</td>\n",
       "      <td>-0.329550</td>\n",
       "      <td>0.071220</td>\n",
       "      <td>-0.346562</td>\n",
       "      <td>-0.064201</td>\n",
       "      <td>0.109492</td>\n",
       "      <td>-0.387201</td>\n",
       "      <td>-0.239317</td>\n",
       "      <td>14.32</td>\n",
       "      <td>0.0</td>\n",
       "    </tr>\n",
       "    <tr>\n",
       "      <th>128847</th>\n",
       "      <td>78860.0</td>\n",
       "      <td>1.285139</td>\n",
       "      <td>-1.218604</td>\n",
       "      <td>1.209808</td>\n",
       "      <td>-0.608191</td>\n",
       "      <td>-1.754405</td>\n",
       "      <td>0.617517</td>\n",
       "      <td>-1.716541</td>\n",
       "      <td>0.463756</td>\n",
       "      <td>0.377646</td>\n",
       "      <td>0.696111</td>\n",
       "      <td>-0.378525</td>\n",
       "      <td>-0.622588</td>\n",
       "      <td>-1.616385</td>\n",
       "      <td>-0.253061</td>\n",
       "      <td>-0.073841</td>\n",
       "      <td>-0.546099</td>\n",
       "      <td>-0.391529</td>\n",
       "      <td>2.432171</td>\n",
       "      <td>-0.225342</td>\n",
       "      <td>-0.533106</td>\n",
       "      <td>-0.247578</td>\n",
       "      <td>-0.176594</td>\n",
       "      <td>-0.060286</td>\n",
       "      <td>-0.493098</td>\n",
       "      <td>0.049068</td>\n",
       "      <td>1.208259</td>\n",
       "      <td>-0.004381</td>\n",
       "      <td>0.005973</td>\n",
       "      <td>22.64</td>\n",
       "      <td>0.0</td>\n",
       "    </tr>\n",
       "    <tr>\n",
       "      <th>54207</th>\n",
       "      <td>46332.0</td>\n",
       "      <td>-3.379971</td>\n",
       "      <td>-1.950236</td>\n",
       "      <td>0.843729</td>\n",
       "      <td>1.284228</td>\n",
       "      <td>0.727374</td>\n",
       "      <td>-0.620640</td>\n",
       "      <td>0.910801</td>\n",
       "      <td>-0.434749</td>\n",
       "      <td>1.225400</td>\n",
       "      <td>-0.283360</td>\n",
       "      <td>-0.169011</td>\n",
       "      <td>0.089100</td>\n",
       "      <td>-0.303256</td>\n",
       "      <td>-2.129570</td>\n",
       "      <td>-0.574522</td>\n",
       "      <td>-0.181941</td>\n",
       "      <td>0.702910</td>\n",
       "      <td>-0.327414</td>\n",
       "      <td>-0.902007</td>\n",
       "      <td>-1.393105</td>\n",
       "      <td>-0.445043</td>\n",
       "      <td>0.835274</td>\n",
       "      <td>1.339244</td>\n",
       "      <td>0.341105</td>\n",
       "      <td>-0.169477</td>\n",
       "      <td>-0.578900</td>\n",
       "      <td>-0.614642</td>\n",
       "      <td>-0.081410</td>\n",
       "      <td>142.98</td>\n",
       "      <td>0.0</td>\n",
       "    </tr>\n",
       "    <tr>\n",
       "      <th>46755</th>\n",
       "      <td>42916.0</td>\n",
       "      <td>1.190450</td>\n",
       "      <td>-0.104255</td>\n",
       "      <td>0.851976</td>\n",
       "      <td>1.156676</td>\n",
       "      <td>-0.441948</td>\n",
       "      <td>0.656014</td>\n",
       "      <td>-0.730245</td>\n",
       "      <td>0.318754</td>\n",
       "      <td>0.928617</td>\n",
       "      <td>-0.089765</td>\n",
       "      <td>-1.418004</td>\n",
       "      <td>-0.413542</td>\n",
       "      <td>-0.820754</td>\n",
       "      <td>-0.077538</td>\n",
       "      <td>1.008189</td>\n",
       "      <td>0.283592</td>\n",
       "      <td>-0.387829</td>\n",
       "      <td>0.151735</td>\n",
       "      <td>-0.519601</td>\n",
       "      <td>-0.215121</td>\n",
       "      <td>0.081462</td>\n",
       "      <td>0.410146</td>\n",
       "      <td>-0.146235</td>\n",
       "      <td>-0.779134</td>\n",
       "      <td>0.511281</td>\n",
       "      <td>-0.156481</td>\n",
       "      <td>0.077336</td>\n",
       "      <td>0.020933</td>\n",
       "      <td>1.00</td>\n",
       "      <td>0.0</td>\n",
       "    </tr>\n",
       "    <tr>\n",
       "      <th>208373</th>\n",
       "      <td>137090.0</td>\n",
       "      <td>2.053764</td>\n",
       "      <td>-0.237436</td>\n",
       "      <td>-0.724570</td>\n",
       "      <td>0.117161</td>\n",
       "      <td>-0.028869</td>\n",
       "      <td>0.050937</td>\n",
       "      <td>-0.473876</td>\n",
       "      <td>-0.002424</td>\n",
       "      <td>1.121399</td>\n",
       "      <td>-0.153042</td>\n",
       "      <td>-1.278967</td>\n",
       "      <td>0.573541</td>\n",
       "      <td>1.047582</td>\n",
       "      <td>-0.170640</td>\n",
       "      <td>1.001816</td>\n",
       "      <td>0.553267</td>\n",
       "      <td>-1.001801</td>\n",
       "      <td>0.110432</td>\n",
       "      <td>0.092087</td>\n",
       "      <td>-0.118881</td>\n",
       "      <td>-0.174611</td>\n",
       "      <td>-0.388319</td>\n",
       "      <td>0.302183</td>\n",
       "      <td>0.005587</td>\n",
       "      <td>-0.300389</td>\n",
       "      <td>-0.599071</td>\n",
       "      <td>0.032705</td>\n",
       "      <td>-0.028802</td>\n",
       "      <td>6.51</td>\n",
       "      <td>0.0</td>\n",
       "    </tr>\n",
       "  </tbody>\n",
       "</table>\n",
       "</div>"
      ],
      "text/plain": [
       "            Time        V1        V2  ...       V28  Amount  Class\n",
       "18952    29901.0 -0.709172  0.676096  ... -0.239317   14.32    0.0\n",
       "128847   78860.0  1.285139 -1.218604  ...  0.005973   22.64    0.0\n",
       "54207    46332.0 -3.379971 -1.950236  ... -0.081410  142.98    0.0\n",
       "46755    42916.0  1.190450 -0.104255  ...  0.020933    1.00    0.0\n",
       "208373  137090.0  2.053764 -0.237436  ... -0.028802    6.51    0.0\n",
       "\n",
       "[5 rows x 31 columns]"
      ]
     },
     "execution_count": 21,
     "metadata": {
      "tags": []
     },
     "output_type": "execute_result"
    }
   ],
   "source": [
    "new_dataset.head()"
   ]
  },
  {
   "cell_type": "code",
   "execution_count": 22,
   "metadata": {
    "colab": {
     "base_uri": "https://localhost:8080/"
    },
    "id": "HYPtCICz83CJ",
    "outputId": "fb4af2c9-8cf4-4ed5-cfec-c14f91510aa7"
   },
   "outputs": [
    {
     "data": {
      "text/plain": [
       "(788, 31)"
      ]
     },
     "execution_count": 22,
     "metadata": {
      "tags": []
     },
     "output_type": "execute_result"
    }
   ],
   "source": [
    "new_dataset.shape"
   ]
  },
  {
   "cell_type": "code",
   "execution_count": 23,
   "metadata": {
    "colab": {
     "base_uri": "https://localhost:8080/"
    },
    "id": "wMO_kGWY856x",
    "outputId": "4ffb6dc3-8e79-4c8a-96cd-1ad5648bfb6f"
   },
   "outputs": [
    {
     "data": {
      "text/plain": [
       "1.0    394\n",
       "0.0    394\n",
       "Name: Class, dtype: int64"
      ]
     },
     "execution_count": 23,
     "metadata": {
      "tags": []
     },
     "output_type": "execute_result"
    }
   ],
   "source": [
    "new_dataset['Class'].value_counts()"
   ]
  },
  {
   "cell_type": "code",
   "execution_count": 24,
   "metadata": {
    "colab": {
     "base_uri": "https://localhost:8080/",
     "height": 162
    },
    "id": "0oU8vMwv9DhM",
    "outputId": "57ba9378-d381-44da-c047-adc8fa61c082"
   },
   "outputs": [
    {
     "data": {
      "text/html": [
       "<div>\n",
       "<style scoped>\n",
       "    .dataframe tbody tr th:only-of-type {\n",
       "        vertical-align: middle;\n",
       "    }\n",
       "\n",
       "    .dataframe tbody tr th {\n",
       "        vertical-align: top;\n",
       "    }\n",
       "\n",
       "    .dataframe thead th {\n",
       "        text-align: right;\n",
       "    }\n",
       "</style>\n",
       "<table border=\"1\" class=\"dataframe\">\n",
       "  <thead>\n",
       "    <tr style=\"text-align: right;\">\n",
       "      <th></th>\n",
       "      <th>Time</th>\n",
       "      <th>V1</th>\n",
       "      <th>V2</th>\n",
       "      <th>V3</th>\n",
       "      <th>V4</th>\n",
       "      <th>V5</th>\n",
       "      <th>V6</th>\n",
       "      <th>V7</th>\n",
       "      <th>V8</th>\n",
       "      <th>V9</th>\n",
       "      <th>V10</th>\n",
       "      <th>V11</th>\n",
       "      <th>V12</th>\n",
       "      <th>V13</th>\n",
       "      <th>V14</th>\n",
       "      <th>V15</th>\n",
       "      <th>V16</th>\n",
       "      <th>V17</th>\n",
       "      <th>V18</th>\n",
       "      <th>V19</th>\n",
       "      <th>V20</th>\n",
       "      <th>V21</th>\n",
       "      <th>V22</th>\n",
       "      <th>V23</th>\n",
       "      <th>V24</th>\n",
       "      <th>V25</th>\n",
       "      <th>V26</th>\n",
       "      <th>V27</th>\n",
       "      <th>V28</th>\n",
       "      <th>Amount</th>\n",
       "    </tr>\n",
       "    <tr>\n",
       "      <th>Class</th>\n",
       "      <th></th>\n",
       "      <th></th>\n",
       "      <th></th>\n",
       "      <th></th>\n",
       "      <th></th>\n",
       "      <th></th>\n",
       "      <th></th>\n",
       "      <th></th>\n",
       "      <th></th>\n",
       "      <th></th>\n",
       "      <th></th>\n",
       "      <th></th>\n",
       "      <th></th>\n",
       "      <th></th>\n",
       "      <th></th>\n",
       "      <th></th>\n",
       "      <th></th>\n",
       "      <th></th>\n",
       "      <th></th>\n",
       "      <th></th>\n",
       "      <th></th>\n",
       "      <th></th>\n",
       "      <th></th>\n",
       "      <th></th>\n",
       "      <th></th>\n",
       "      <th></th>\n",
       "      <th></th>\n",
       "      <th></th>\n",
       "      <th></th>\n",
       "      <th></th>\n",
       "    </tr>\n",
       "  </thead>\n",
       "  <tbody>\n",
       "    <tr>\n",
       "      <th>0.0</th>\n",
       "      <td>74170.799492</td>\n",
       "      <td>0.174967</td>\n",
       "      <td>-0.035303</td>\n",
       "      <td>0.192424</td>\n",
       "      <td>0.099785</td>\n",
       "      <td>-0.063887</td>\n",
       "      <td>0.031069</td>\n",
       "      <td>0.011899</td>\n",
       "      <td>0.025828</td>\n",
       "      <td>0.105655</td>\n",
       "      <td>0.007353</td>\n",
       "      <td>0.109093</td>\n",
       "      <td>-0.059683</td>\n",
       "      <td>0.166446</td>\n",
       "      <td>0.049143</td>\n",
       "      <td>0.010602</td>\n",
       "      <td>-0.058244</td>\n",
       "      <td>0.064901</td>\n",
       "      <td>-0.053971</td>\n",
       "      <td>0.035921</td>\n",
       "      <td>-0.051355</td>\n",
       "      <td>-0.020170</td>\n",
       "      <td>-0.022537</td>\n",
       "      <td>-0.022163</td>\n",
       "      <td>-0.040399</td>\n",
       "      <td>0.052948</td>\n",
       "      <td>-0.010966</td>\n",
       "      <td>-0.039687</td>\n",
       "      <td>0.009776</td>\n",
       "      <td>76.434112</td>\n",
       "    </tr>\n",
       "    <tr>\n",
       "      <th>1.0</th>\n",
       "      <td>62970.449239</td>\n",
       "      <td>-5.564086</td>\n",
       "      <td>4.145138</td>\n",
       "      <td>-7.653811</td>\n",
       "      <td>4.735781</td>\n",
       "      <td>-4.009483</td>\n",
       "      <td>-1.393320</td>\n",
       "      <td>-6.501846</td>\n",
       "      <td>0.664570</td>\n",
       "      <td>-2.742972</td>\n",
       "      <td>-6.297907</td>\n",
       "      <td>4.132689</td>\n",
       "      <td>-6.874328</td>\n",
       "      <td>-0.026073</td>\n",
       "      <td>-7.134450</td>\n",
       "      <td>-0.086965</td>\n",
       "      <td>-4.663927</td>\n",
       "      <td>-7.628833</td>\n",
       "      <td>-2.670136</td>\n",
       "      <td>0.770470</td>\n",
       "      <td>0.394589</td>\n",
       "      <td>0.778108</td>\n",
       "      <td>-0.012420</td>\n",
       "      <td>-0.048604</td>\n",
       "      <td>-0.067137</td>\n",
       "      <td>0.065962</td>\n",
       "      <td>0.038256</td>\n",
       "      <td>0.182273</td>\n",
       "      <td>0.060390</td>\n",
       "      <td>123.172970</td>\n",
       "    </tr>\n",
       "  </tbody>\n",
       "</table>\n",
       "</div>"
      ],
      "text/plain": [
       "               Time        V1        V2  ...       V27       V28      Amount\n",
       "Class                                    ...                                \n",
       "0.0    74170.799492  0.174967 -0.035303  ... -0.039687  0.009776   76.434112\n",
       "1.0    62970.449239 -5.564086  4.145138  ...  0.182273  0.060390  123.172970\n",
       "\n",
       "[2 rows x 30 columns]"
      ]
     },
     "execution_count": 24,
     "metadata": {
      "tags": []
     },
     "output_type": "execute_result"
    }
   ],
   "source": [
    "new_dataset.groupby('Class').mean()"
   ]
  },
  {
   "cell_type": "markdown",
   "metadata": {
    "id": "QpYsbp3Z9e6A"
   },
   "source": [
    "Spliting the data into features and target"
   ]
  },
  {
   "cell_type": "code",
   "execution_count": 25,
   "metadata": {
    "colab": {
     "base_uri": "https://localhost:8080/"
    },
    "id": "ieTn8lu39KR_",
    "outputId": "7a7eaa5b-1277-4b8f-8c08-87632edfdc6c"
   },
   "outputs": [
    {
     "name": "stdout",
     "output_type": "stream",
     "text": [
      "            Time        V1        V2  ...       V27       V28  Amount\n",
      "18952    29901.0 -0.709172  0.676096  ... -0.387201 -0.239317   14.32\n",
      "128847   78860.0  1.285139 -1.218604  ... -0.004381  0.005973   22.64\n",
      "54207    46332.0 -3.379971 -1.950236  ... -0.614642 -0.081410  142.98\n",
      "46755    42916.0  1.190450 -0.104255  ...  0.077336  0.020933    1.00\n",
      "208373  137090.0  2.053764 -0.237436  ...  0.032705 -0.028802    6.51\n",
      "...          ...       ...       ...  ...       ...       ...     ...\n",
      "203700  134928.0  1.204934  3.238070  ...  0.491828  0.340847    0.00\n",
      "204064  135095.0  0.232512  0.938944  ...  0.180859 -0.029315  345.00\n",
      "204079  135102.0  1.862102 -0.124052  ... -0.019579  0.006155  108.51\n",
      "204503  135314.0 -3.158990  1.765452  ... -0.235477  0.018129   84.28\n",
      "208651  137211.0  0.630579  1.183631  ...  0.853792  0.356503   39.45\n",
      "\n",
      "[788 rows x 30 columns]\n",
      "18952     0.0\n",
      "128847    0.0\n",
      "54207     0.0\n",
      "46755     0.0\n",
      "208373    0.0\n",
      "         ... \n",
      "203700    1.0\n",
      "204064    1.0\n",
      "204079    1.0\n",
      "204503    1.0\n",
      "208651    1.0\n",
      "Name: Class, Length: 788, dtype: float64\n"
     ]
    }
   ],
   "source": [
    "X = new_dataset.drop(columns='Class', axis=1)\n",
    "Y = new_dataset['Class']\n",
    "\n",
    "print(X)\n",
    "print(Y)"
   ]
  },
  {
   "cell_type": "code",
   "execution_count": 27,
   "metadata": {
    "id": "rP2FQBJt9yyb"
   },
   "outputs": [],
   "source": [
    "# splitting dataset into Training & Testing data\n",
    "X_train, X_test, Y_train, Y_test = train_test_split(X, Y, test_size=0.2, stratify=Y, random_state=2)"
   ]
  },
  {
   "cell_type": "code",
   "execution_count": 28,
   "metadata": {
    "colab": {
     "base_uri": "https://localhost:8080/"
    },
    "id": "IMLfAnCM-QHQ",
    "outputId": "582810ee-98a2-4c6e-a184-8ac20840e3eb"
   },
   "outputs": [
    {
     "name": "stdout",
     "output_type": "stream",
     "text": [
      "(788, 30) (630, 30) (158, 30)\n"
     ]
    }
   ],
   "source": [
    "print(X.shape, X_train.shape, X_test.shape)"
   ]
  },
  {
   "cell_type": "markdown",
   "metadata": {
    "id": "xErOxokM-ZLG"
   },
   "source": [
    "Model Training : Logistic Regression"
   ]
  },
  {
   "cell_type": "code",
   "execution_count": 29,
   "metadata": {
    "id": "ITyOxGJp-X3X"
   },
   "outputs": [],
   "source": [
    "model = LogisticRegression()"
   ]
  },
  {
   "cell_type": "code",
   "execution_count": 30,
   "metadata": {
    "colab": {
     "base_uri": "https://localhost:8080/"
    },
    "id": "PS7S8MFk-e6b",
    "outputId": "121f2633-125f-4cc5-afa1-a9befc776226"
   },
   "outputs": [
    {
     "data": {
      "text/plain": [
       "LogisticRegression(C=1.0, class_weight=None, dual=False, fit_intercept=True,\n",
       "                   intercept_scaling=1, l1_ratio=None, max_iter=100,\n",
       "                   multi_class='auto', n_jobs=None, penalty='l2',\n",
       "                   random_state=None, solver='lbfgs', tol=0.0001, verbose=0,\n",
       "                   warm_start=False)"
      ]
     },
     "execution_count": 30,
     "metadata": {
      "tags": []
     },
     "output_type": "execute_result"
    }
   ],
   "source": [
    "model.fit(X_train, Y_train)"
   ]
  },
  {
   "cell_type": "markdown",
   "metadata": {
    "id": "W9Mc_v4X-lVB"
   },
   "source": [
    "Model Evaluation"
   ]
  },
  {
   "cell_type": "code",
   "execution_count": 32,
   "metadata": {
    "colab": {
     "base_uri": "https://localhost:8080/"
    },
    "id": "4PRNxEI3-iqJ",
    "outputId": "3c39b782-9fd0-4498-a827-797040d68ec4"
   },
   "outputs": [
    {
     "name": "stdout",
     "output_type": "stream",
     "text": [
      "Accuracy on training data:  0.9476190476190476\n"
     ]
    }
   ],
   "source": [
    "# accuracy on training data\n",
    "train_prediction = model.predict(X_train)\n",
    "train_accuracy = accuracy_score(train_prediction, Y_train)\n",
    "\n",
    "print('Accuracy on training data: ', train_accuracy)"
   ]
  },
  {
   "cell_type": "code",
   "execution_count": 33,
   "metadata": {
    "colab": {
     "base_uri": "https://localhost:8080/"
    },
    "id": "moRkYMLo--9i",
    "outputId": "b59f861e-1823-4013-ea3e-88b167c59d3d"
   },
   "outputs": [
    {
     "name": "stdout",
     "output_type": "stream",
     "text": [
      "Accuracy on testing data:  0.930379746835443\n"
     ]
    }
   ],
   "source": [
    "# # accuracy on testing data\n",
    "test_prediction = model.predict(X_test)\n",
    "test_accuracy = accuracy_score(test_prediction, Y_test)\n",
    "\n",
    "print('Accuracy on testing data: ', test_accuracy)"
   ]
  },
  {
   "cell_type": "code",
   "execution_count": null,
   "metadata": {
    "id": "-d-OyXZ8_eTE"
   },
   "outputs": [],
   "source": []
  }
 ],
 "metadata": {
  "colab": {
   "collapsed_sections": [],
   "name": "10. Credit Card Fraud Detection.ipynb",
   "provenance": []
  },
  "kernelspec": {
   "display_name": "Python 3 (ipykernel)",
   "language": "python",
   "name": "python3"
  },
  "language_info": {
   "codemirror_mode": {
    "name": "ipython",
    "version": 3
   },
   "file_extension": ".py",
   "mimetype": "text/x-python",
   "name": "python",
   "nbconvert_exporter": "python",
   "pygments_lexer": "ipython3",
   "version": "3.8.10"
  }
 },
 "nbformat": 4,
 "nbformat_minor": 1
}
