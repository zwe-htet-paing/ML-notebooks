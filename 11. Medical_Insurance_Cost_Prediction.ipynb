{
 "cells": [
  {
   "cell_type": "markdown",
   "metadata": {
    "id": "6wOoPy4S8MS5"
   },
   "source": [
    "Dataset: https://www.kaggle.com/mirichoi0218/insurance\n"
   ]
  },
  {
   "cell_type": "markdown",
   "metadata": {
    "id": "G_zE7e9G8L7J"
   },
   "source": [
    "Importing the Dependencies"
   ]
  },
  {
   "cell_type": "code",
   "execution_count": 1,
   "metadata": {
    "id": "jVE0v8co74jk"
   },
   "outputs": [],
   "source": [
    "import numpy as np\n",
    "import pandas as pd\n",
    "import matplotlib.pyplot as plt\n",
    "import seaborn as sns\n",
    "from sklearn.model_selection import train_test_split\n",
    "from sklearn.linear_model import LinearRegression\n",
    "from sklearn import metrics"
   ]
  },
  {
   "cell_type": "markdown",
   "metadata": {
    "id": "4EuO0N9s85yj"
   },
   "source": [
    "Data Collection and Pre-processing"
   ]
  },
  {
   "cell_type": "code",
   "execution_count": 2,
   "metadata": {
    "id": "4M0WMaXL8wVg"
   },
   "outputs": [],
   "source": [
    "# loading dataset\n",
    "insurance_data = pd.read_csv('/content/insurance.csv')"
   ]
  },
  {
   "cell_type": "code",
   "execution_count": 3,
   "metadata": {
    "colab": {
     "base_uri": "https://localhost:8080/",
     "height": 204
    },
    "id": "o4a0_A5K9GQt",
    "outputId": "47a950ee-ac4f-43ee-f8b5-9ab04a06ab97"
   },
   "outputs": [
    {
     "data": {
      "text/html": [
       "<div>\n",
       "<style scoped>\n",
       "    .dataframe tbody tr th:only-of-type {\n",
       "        vertical-align: middle;\n",
       "    }\n",
       "\n",
       "    .dataframe tbody tr th {\n",
       "        vertical-align: top;\n",
       "    }\n",
       "\n",
       "    .dataframe thead th {\n",
       "        text-align: right;\n",
       "    }\n",
       "</style>\n",
       "<table border=\"1\" class=\"dataframe\">\n",
       "  <thead>\n",
       "    <tr style=\"text-align: right;\">\n",
       "      <th></th>\n",
       "      <th>age</th>\n",
       "      <th>sex</th>\n",
       "      <th>bmi</th>\n",
       "      <th>children</th>\n",
       "      <th>smoker</th>\n",
       "      <th>region</th>\n",
       "      <th>charges</th>\n",
       "    </tr>\n",
       "  </thead>\n",
       "  <tbody>\n",
       "    <tr>\n",
       "      <th>0</th>\n",
       "      <td>19</td>\n",
       "      <td>female</td>\n",
       "      <td>27.900</td>\n",
       "      <td>0</td>\n",
       "      <td>yes</td>\n",
       "      <td>southwest</td>\n",
       "      <td>16884.92400</td>\n",
       "    </tr>\n",
       "    <tr>\n",
       "      <th>1</th>\n",
       "      <td>18</td>\n",
       "      <td>male</td>\n",
       "      <td>33.770</td>\n",
       "      <td>1</td>\n",
       "      <td>no</td>\n",
       "      <td>southeast</td>\n",
       "      <td>1725.55230</td>\n",
       "    </tr>\n",
       "    <tr>\n",
       "      <th>2</th>\n",
       "      <td>28</td>\n",
       "      <td>male</td>\n",
       "      <td>33.000</td>\n",
       "      <td>3</td>\n",
       "      <td>no</td>\n",
       "      <td>southeast</td>\n",
       "      <td>4449.46200</td>\n",
       "    </tr>\n",
       "    <tr>\n",
       "      <th>3</th>\n",
       "      <td>33</td>\n",
       "      <td>male</td>\n",
       "      <td>22.705</td>\n",
       "      <td>0</td>\n",
       "      <td>no</td>\n",
       "      <td>northwest</td>\n",
       "      <td>21984.47061</td>\n",
       "    </tr>\n",
       "    <tr>\n",
       "      <th>4</th>\n",
       "      <td>32</td>\n",
       "      <td>male</td>\n",
       "      <td>28.880</td>\n",
       "      <td>0</td>\n",
       "      <td>no</td>\n",
       "      <td>northwest</td>\n",
       "      <td>3866.85520</td>\n",
       "    </tr>\n",
       "  </tbody>\n",
       "</table>\n",
       "</div>"
      ],
      "text/plain": [
       "   age     sex     bmi  children smoker     region      charges\n",
       "0   19  female  27.900         0    yes  southwest  16884.92400\n",
       "1   18    male  33.770         1     no  southeast   1725.55230\n",
       "2   28    male  33.000         3     no  southeast   4449.46200\n",
       "3   33    male  22.705         0     no  northwest  21984.47061\n",
       "4   32    male  28.880         0     no  northwest   3866.85520"
      ]
     },
     "execution_count": 3,
     "metadata": {
      "tags": []
     },
     "output_type": "execute_result"
    }
   ],
   "source": [
    "insurance_data.head()"
   ]
  },
  {
   "cell_type": "code",
   "execution_count": 4,
   "metadata": {
    "colab": {
     "base_uri": "https://localhost:8080/",
     "height": 204
    },
    "id": "O_8qtuCC9Iak",
    "outputId": "75afca4a-82d9-45ca-a35e-436e9b8d25db"
   },
   "outputs": [
    {
     "data": {
      "text/html": [
       "<div>\n",
       "<style scoped>\n",
       "    .dataframe tbody tr th:only-of-type {\n",
       "        vertical-align: middle;\n",
       "    }\n",
       "\n",
       "    .dataframe tbody tr th {\n",
       "        vertical-align: top;\n",
       "    }\n",
       "\n",
       "    .dataframe thead th {\n",
       "        text-align: right;\n",
       "    }\n",
       "</style>\n",
       "<table border=\"1\" class=\"dataframe\">\n",
       "  <thead>\n",
       "    <tr style=\"text-align: right;\">\n",
       "      <th></th>\n",
       "      <th>age</th>\n",
       "      <th>sex</th>\n",
       "      <th>bmi</th>\n",
       "      <th>children</th>\n",
       "      <th>smoker</th>\n",
       "      <th>region</th>\n",
       "      <th>charges</th>\n",
       "    </tr>\n",
       "  </thead>\n",
       "  <tbody>\n",
       "    <tr>\n",
       "      <th>1333</th>\n",
       "      <td>50</td>\n",
       "      <td>male</td>\n",
       "      <td>30.97</td>\n",
       "      <td>3</td>\n",
       "      <td>no</td>\n",
       "      <td>northwest</td>\n",
       "      <td>10600.5483</td>\n",
       "    </tr>\n",
       "    <tr>\n",
       "      <th>1334</th>\n",
       "      <td>18</td>\n",
       "      <td>female</td>\n",
       "      <td>31.92</td>\n",
       "      <td>0</td>\n",
       "      <td>no</td>\n",
       "      <td>northeast</td>\n",
       "      <td>2205.9808</td>\n",
       "    </tr>\n",
       "    <tr>\n",
       "      <th>1335</th>\n",
       "      <td>18</td>\n",
       "      <td>female</td>\n",
       "      <td>36.85</td>\n",
       "      <td>0</td>\n",
       "      <td>no</td>\n",
       "      <td>southeast</td>\n",
       "      <td>1629.8335</td>\n",
       "    </tr>\n",
       "    <tr>\n",
       "      <th>1336</th>\n",
       "      <td>21</td>\n",
       "      <td>female</td>\n",
       "      <td>25.80</td>\n",
       "      <td>0</td>\n",
       "      <td>no</td>\n",
       "      <td>southwest</td>\n",
       "      <td>2007.9450</td>\n",
       "    </tr>\n",
       "    <tr>\n",
       "      <th>1337</th>\n",
       "      <td>61</td>\n",
       "      <td>female</td>\n",
       "      <td>29.07</td>\n",
       "      <td>0</td>\n",
       "      <td>yes</td>\n",
       "      <td>northwest</td>\n",
       "      <td>29141.3603</td>\n",
       "    </tr>\n",
       "  </tbody>\n",
       "</table>\n",
       "</div>"
      ],
      "text/plain": [
       "      age     sex    bmi  children smoker     region     charges\n",
       "1333   50    male  30.97         3     no  northwest  10600.5483\n",
       "1334   18  female  31.92         0     no  northeast   2205.9808\n",
       "1335   18  female  36.85         0     no  southeast   1629.8335\n",
       "1336   21  female  25.80         0     no  southwest   2007.9450\n",
       "1337   61  female  29.07         0    yes  northwest  29141.3603"
      ]
     },
     "execution_count": 4,
     "metadata": {
      "tags": []
     },
     "output_type": "execute_result"
    }
   ],
   "source": [
    "insurance_data.tail()"
   ]
  },
  {
   "cell_type": "code",
   "execution_count": 5,
   "metadata": {
    "colab": {
     "base_uri": "https://localhost:8080/"
    },
    "id": "c2hjLKZg9Lc2",
    "outputId": "aa1afe90-d571-445b-8fad-587121e0aa1d"
   },
   "outputs": [
    {
     "data": {
      "text/plain": [
       "(1338, 7)"
      ]
     },
     "execution_count": 5,
     "metadata": {
      "tags": []
     },
     "output_type": "execute_result"
    }
   ],
   "source": [
    "insurance_data.shape"
   ]
  },
  {
   "cell_type": "code",
   "execution_count": 6,
   "metadata": {
    "colab": {
     "base_uri": "https://localhost:8080/"
    },
    "id": "cJxAgxlN9UEZ",
    "outputId": "11469ac1-900d-4af7-910f-1784c1328750"
   },
   "outputs": [
    {
     "name": "stdout",
     "output_type": "stream",
     "text": [
      "<class 'pandas.core.frame.DataFrame'>\n",
      "RangeIndex: 1338 entries, 0 to 1337\n",
      "Data columns (total 7 columns):\n",
      " #   Column    Non-Null Count  Dtype  \n",
      "---  ------    --------------  -----  \n",
      " 0   age       1338 non-null   int64  \n",
      " 1   sex       1338 non-null   object \n",
      " 2   bmi       1338 non-null   float64\n",
      " 3   children  1338 non-null   int64  \n",
      " 4   smoker    1338 non-null   object \n",
      " 5   region    1338 non-null   object \n",
      " 6   charges   1338 non-null   float64\n",
      "dtypes: float64(2), int64(2), object(3)\n",
      "memory usage: 73.3+ KB\n"
     ]
    }
   ],
   "source": [
    "insurance_data.info()"
   ]
  },
  {
   "cell_type": "code",
   "execution_count": 7,
   "metadata": {
    "colab": {
     "base_uri": "https://localhost:8080/"
    },
    "id": "q2GB4I3J9WEQ",
    "outputId": "243230dc-b7ad-49e0-df28-d612374c7aa0"
   },
   "outputs": [
    {
     "data": {
      "text/plain": [
       "age         0\n",
       "sex         0\n",
       "bmi         0\n",
       "children    0\n",
       "smoker      0\n",
       "region      0\n",
       "charges     0\n",
       "dtype: int64"
      ]
     },
     "execution_count": 7,
     "metadata": {
      "tags": []
     },
     "output_type": "execute_result"
    }
   ],
   "source": [
    "# checking the missing values in dataset\n",
    "insurance_data.isnull().sum()"
   ]
  },
  {
   "cell_type": "code",
   "execution_count": 8,
   "metadata": {
    "colab": {
     "base_uri": "https://localhost:8080/",
     "height": 297
    },
    "id": "iSr4x4-l9hKD",
    "outputId": "a0c6adff-ad64-4efb-bce2-7f15c4922989"
   },
   "outputs": [
    {
     "data": {
      "text/html": [
       "<div>\n",
       "<style scoped>\n",
       "    .dataframe tbody tr th:only-of-type {\n",
       "        vertical-align: middle;\n",
       "    }\n",
       "\n",
       "    .dataframe tbody tr th {\n",
       "        vertical-align: top;\n",
       "    }\n",
       "\n",
       "    .dataframe thead th {\n",
       "        text-align: right;\n",
       "    }\n",
       "</style>\n",
       "<table border=\"1\" class=\"dataframe\">\n",
       "  <thead>\n",
       "    <tr style=\"text-align: right;\">\n",
       "      <th></th>\n",
       "      <th>age</th>\n",
       "      <th>bmi</th>\n",
       "      <th>children</th>\n",
       "      <th>charges</th>\n",
       "    </tr>\n",
       "  </thead>\n",
       "  <tbody>\n",
       "    <tr>\n",
       "      <th>count</th>\n",
       "      <td>1338.000000</td>\n",
       "      <td>1338.000000</td>\n",
       "      <td>1338.000000</td>\n",
       "      <td>1338.000000</td>\n",
       "    </tr>\n",
       "    <tr>\n",
       "      <th>mean</th>\n",
       "      <td>39.207025</td>\n",
       "      <td>30.663397</td>\n",
       "      <td>1.094918</td>\n",
       "      <td>13270.422265</td>\n",
       "    </tr>\n",
       "    <tr>\n",
       "      <th>std</th>\n",
       "      <td>14.049960</td>\n",
       "      <td>6.098187</td>\n",
       "      <td>1.205493</td>\n",
       "      <td>12110.011237</td>\n",
       "    </tr>\n",
       "    <tr>\n",
       "      <th>min</th>\n",
       "      <td>18.000000</td>\n",
       "      <td>15.960000</td>\n",
       "      <td>0.000000</td>\n",
       "      <td>1121.873900</td>\n",
       "    </tr>\n",
       "    <tr>\n",
       "      <th>25%</th>\n",
       "      <td>27.000000</td>\n",
       "      <td>26.296250</td>\n",
       "      <td>0.000000</td>\n",
       "      <td>4740.287150</td>\n",
       "    </tr>\n",
       "    <tr>\n",
       "      <th>50%</th>\n",
       "      <td>39.000000</td>\n",
       "      <td>30.400000</td>\n",
       "      <td>1.000000</td>\n",
       "      <td>9382.033000</td>\n",
       "    </tr>\n",
       "    <tr>\n",
       "      <th>75%</th>\n",
       "      <td>51.000000</td>\n",
       "      <td>34.693750</td>\n",
       "      <td>2.000000</td>\n",
       "      <td>16639.912515</td>\n",
       "    </tr>\n",
       "    <tr>\n",
       "      <th>max</th>\n",
       "      <td>64.000000</td>\n",
       "      <td>53.130000</td>\n",
       "      <td>5.000000</td>\n",
       "      <td>63770.428010</td>\n",
       "    </tr>\n",
       "  </tbody>\n",
       "</table>\n",
       "</div>"
      ],
      "text/plain": [
       "               age          bmi     children       charges\n",
       "count  1338.000000  1338.000000  1338.000000   1338.000000\n",
       "mean     39.207025    30.663397     1.094918  13270.422265\n",
       "std      14.049960     6.098187     1.205493  12110.011237\n",
       "min      18.000000    15.960000     0.000000   1121.873900\n",
       "25%      27.000000    26.296250     0.000000   4740.287150\n",
       "50%      39.000000    30.400000     1.000000   9382.033000\n",
       "75%      51.000000    34.693750     2.000000  16639.912515\n",
       "max      64.000000    53.130000     5.000000  63770.428010"
      ]
     },
     "execution_count": 8,
     "metadata": {
      "tags": []
     },
     "output_type": "execute_result"
    }
   ],
   "source": [
    "# statistical measures of the dataset\n",
    "insurance_data.describe()"
   ]
  },
  {
   "cell_type": "code",
   "execution_count": 9,
   "metadata": {
    "colab": {
     "base_uri": "https://localhost:8080/",
     "height": 683
    },
    "id": "p70AadqE9wgq",
    "outputId": "7660a6df-794f-45c0-a23a-9c618d06a088"
   },
   "outputs": [
    {
     "name": "stderr",
     "output_type": "stream",
     "text": [
      "/usr/local/lib/python3.7/dist-packages/seaborn/distributions.py:2557: FutureWarning: `distplot` is a deprecated function and will be removed in a future version. Please adapt your code to use either `displot` (a figure-level function with similar flexibility) or `histplot` (an axes-level function for histograms).\n",
      "  warnings.warn(msg, FutureWarning)\n"
     ]
    },
    {
     "data": {
      "image/png": "[encoded data removed]",
      "text/plain": [
       "<Figure size 720x720 with 1 Axes>"
      ]
     },
     "metadata": {
      "tags": []
     },
     "output_type": "display_data"
    }
   ],
   "source": [
    "# distribution of age value\n",
    "sns.set()\n",
    "plt.figure(figsize=(10, 10))\n",
    "sns.distplot(insurance_data['age'])\n",
    "plt.title('Age Distribution')\n",
    "plt.show()"
   ]
  },
  {
   "cell_type": "code",
   "execution_count": 10,
   "metadata": {
    "colab": {
     "base_uri": "https://localhost:8080/",
     "height": 355
    },
    "id": "O4Z5lsj8-YcS",
    "outputId": "c74c08fc-8c4a-4a81-d087-194e4982e03e"
   },
   "outputs": [
    {
     "data": {
      "image/png": "[encoded data removed]",
      "text/plain": [
       "<Figure size 360x360 with 1 Axes>"
      ]
     },
     "metadata": {
      "tags": []
     },
     "output_type": "display_data"
    }
   ],
   "source": [
    "# Gender columns\n",
    "plt.figure(figsize=(5,5))\n",
    "sns.countplot(x='sex', data=insurance_data)\n",
    "plt.title('Sex Distribution')\n",
    "plt.show()"
   ]
  },
  {
   "cell_type": "code",
   "execution_count": 11,
   "metadata": {
    "colab": {
     "base_uri": "https://localhost:8080/"
    },
    "id": "ouxT8H5M_IQt",
    "outputId": "a5388565-996f-4e75-a874-e5dcb2c7ec03"
   },
   "outputs": [
    {
     "data": {
      "text/plain": [
       "male      676\n",
       "female    662\n",
       "Name: sex, dtype: int64"
      ]
     },
     "execution_count": 11,
     "metadata": {
      "tags": []
     },
     "output_type": "execute_result"
    }
   ],
   "source": [
    "insurance_data['sex'].value_counts()"
   ]
  },
  {
   "cell_type": "code",
   "execution_count": 12,
   "metadata": {
    "colab": {
     "base_uri": "https://localhost:8080/",
     "height": 466
    },
    "id": "s-C_b3um_RAE",
    "outputId": "85402b6d-f297-4205-8b55-08b92480e05b"
   },
   "outputs": [
    {
     "name": "stderr",
     "output_type": "stream",
     "text": [
      "/usr/local/lib/python3.7/dist-packages/seaborn/distributions.py:2557: FutureWarning: `distplot` is a deprecated function and will be removed in a future version. Please adapt your code to use either `displot` (a figure-level function with similar flexibility) or `histplot` (an axes-level function for histograms).\n",
      "  warnings.warn(msg, FutureWarning)\n"
     ]
    },
    {
     "data": {
      "image/png": "[encoded data removed]",
      "text/plain": [
       "<Figure size 432x432 with 1 Axes>"
      ]
     },
     "metadata": {
      "tags": []
     },
     "output_type": "display_data"
    }
   ],
   "source": [
    "# bmi distribution\n",
    "plt.figure(figsize=(6,6))\n",
    "sns.distplot(insurance_data.bmi)\n",
    "plt.title('BMI Distribution')\n",
    "plt.show()"
   ]
  },
  {
   "cell_type": "markdown",
   "metadata": {
    "id": "7Wcq9gewAPeQ"
   },
   "source": [
    "Normal BMI Range --> 18.5 to 24.9"
   ]
  },
  {
   "cell_type": "code",
   "execution_count": 13,
   "metadata": {
    "colab": {
     "base_uri": "https://localhost:8080/",
     "height": 410
    },
    "id": "ANnPFrRNALBn",
    "outputId": "5fc98e2c-1237-455a-99bb-cc0b77fd7416"
   },
   "outputs": [
    {
     "data": {
      "image/png": "[encoded data removed]",
      "text/plain": [
       "<Figure size 432x432 with 1 Axes>"
      ]
     },
     "metadata": {
      "tags": []
     },
     "output_type": "display_data"
    }
   ],
   "source": [
    "# childern columns\n",
    "plt.figure(figsize=(6,6))\n",
    "sns.countplot(x='children', data=insurance_data)\n",
    "plt.title('Children distribution')\n",
    "plt.show()"
   ]
  },
  {
   "cell_type": "code",
   "execution_count": 14,
   "metadata": {
    "colab": {
     "base_uri": "https://localhost:8080/"
    },
    "id": "yTBxXEc4AzPX",
    "outputId": "360c90ba-1e73-49e4-cf4c-67dc0b40c555"
   },
   "outputs": [
    {
     "data": {
      "text/plain": [
       "0    574\n",
       "1    324\n",
       "2    240\n",
       "3    157\n",
       "4     25\n",
       "5     18\n",
       "Name: children, dtype: int64"
      ]
     },
     "execution_count": 14,
     "metadata": {
      "tags": []
     },
     "output_type": "execute_result"
    }
   ],
   "source": [
    "insurance_data['children'].value_counts()"
   ]
  },
  {
   "cell_type": "code",
   "execution_count": 15,
   "metadata": {
    "colab": {
     "base_uri": "https://localhost:8080/",
     "height": 394
    },
    "id": "BAXHxgZnDjKZ",
    "outputId": "d6e981ed-75e2-4250-aaba-57d39a3c7c4f"
   },
   "outputs": [
    {
     "data": {
      "image/png": "[encoded data removed]",
      "text/plain": [
       "<Figure size 432x432 with 1 Axes>"
      ]
     },
     "metadata": {
      "tags": []
     },
     "output_type": "display_data"
    }
   ],
   "source": [
    "# Smoker columns\n",
    "plt.figure(figsize=(6,6))\n",
    "sns.countplot(x='smoker', data=insurance_data)\n",
    "plt.show()"
   ]
  },
  {
   "cell_type": "code",
   "execution_count": 16,
   "metadata": {
    "colab": {
     "base_uri": "https://localhost:8080/",
     "height": 303
    },
    "id": "9DfKRqa-D3Nf",
    "outputId": "aa8d2b95-fa84-421a-835c-2d17cb41bca0"
   },
   "outputs": [
    {
     "data": {
      "text/plain": [
       "<matplotlib.axes._subplots.AxesSubplot at 0x7f3a87bd5590>"
      ]
     },
     "execution_count": 16,
     "metadata": {
      "tags": []
     },
     "output_type": "execute_result"
    },
    {
     "data": {
      "image/png": "[encoded data removed]",
      "text/plain": [
       "<Figure size 432x288 with 1 Axes>"
      ]
     },
     "metadata": {
      "tags": []
     },
     "output_type": "display_data"
    }
   ],
   "source": [
    "# region column\n",
    "sns.countplot(x='region', data=insurance_data)"
   ]
  },
  {
   "cell_type": "markdown",
   "metadata": {
    "id": "6ahIfvN5DeDW"
   },
   "source": []
  },
  {
   "cell_type": "markdown",
   "metadata": {
    "id": "nj6fd8V5DTeU"
   },
   "source": [
    "Encoding the categorical features\n",
    "\n",
    "1. Sex\n",
    "2. Smoker\n",
    "3. Region"
   ]
  },
  {
   "cell_type": "code",
   "execution_count": 17,
   "metadata": {
    "id": "GjB1C-0YDQtD"
   },
   "outputs": [],
   "source": [
    "# encoding sex \n",
    "insurance_data.replace({'sex':{'male':0,'female':1}}, inplace=True)\n",
    "\n",
    "# encoding smoker\n",
    "insurance_data.replace({'smoker':{'yes':0,'no':1}}, inplace=True)\n",
    "\n",
    "# encoding region\n",
    "insurance_data.replace({'region':{'southwest':0,'southeast':1, 'northwest':2, 'northeast':3}}, inplace=True)"
   ]
  },
  {
   "cell_type": "code",
   "execution_count": 18,
   "metadata": {
    "colab": {
     "base_uri": "https://localhost:8080/",
     "height": 204
    },
    "id": "d0m9P6ZyFAWV",
    "outputId": "ac5374ed-336c-4927-944e-54e73e48dd72"
   },
   "outputs": [
    {
     "data": {
      "text/html": [
       "<div>\n",
       "<style scoped>\n",
       "    .dataframe tbody tr th:only-of-type {\n",
       "        vertical-align: middle;\n",
       "    }\n",
       "\n",
       "    .dataframe tbody tr th {\n",
       "        vertical-align: top;\n",
       "    }\n",
       "\n",
       "    .dataframe thead th {\n",
       "        text-align: right;\n",
       "    }\n",
       "</style>\n",
       "<table border=\"1\" class=\"dataframe\">\n",
       "  <thead>\n",
       "    <tr style=\"text-align: right;\">\n",
       "      <th></th>\n",
       "      <th>age</th>\n",
       "      <th>sex</th>\n",
       "      <th>bmi</th>\n",
       "      <th>children</th>\n",
       "      <th>smoker</th>\n",
       "      <th>region</th>\n",
       "      <th>charges</th>\n",
       "    </tr>\n",
       "  </thead>\n",
       "  <tbody>\n",
       "    <tr>\n",
       "      <th>0</th>\n",
       "      <td>19</td>\n",
       "      <td>1</td>\n",
       "      <td>27.900</td>\n",
       "      <td>0</td>\n",
       "      <td>0</td>\n",
       "      <td>0</td>\n",
       "      <td>16884.92400</td>\n",
       "    </tr>\n",
       "    <tr>\n",
       "      <th>1</th>\n",
       "      <td>18</td>\n",
       "      <td>0</td>\n",
       "      <td>33.770</td>\n",
       "      <td>1</td>\n",
       "      <td>1</td>\n",
       "      <td>1</td>\n",
       "      <td>1725.55230</td>\n",
       "    </tr>\n",
       "    <tr>\n",
       "      <th>2</th>\n",
       "      <td>28</td>\n",
       "      <td>0</td>\n",
       "      <td>33.000</td>\n",
       "      <td>3</td>\n",
       "      <td>1</td>\n",
       "      <td>1</td>\n",
       "      <td>4449.46200</td>\n",
       "    </tr>\n",
       "    <tr>\n",
       "      <th>3</th>\n",
       "      <td>33</td>\n",
       "      <td>0</td>\n",
       "      <td>22.705</td>\n",
       "      <td>0</td>\n",
       "      <td>1</td>\n",
       "      <td>2</td>\n",
       "      <td>21984.47061</td>\n",
       "    </tr>\n",
       "    <tr>\n",
       "      <th>4</th>\n",
       "      <td>32</td>\n",
       "      <td>0</td>\n",
       "      <td>28.880</td>\n",
       "      <td>0</td>\n",
       "      <td>1</td>\n",
       "      <td>2</td>\n",
       "      <td>3866.85520</td>\n",
       "    </tr>\n",
       "  </tbody>\n",
       "</table>\n",
       "</div>"
      ],
      "text/plain": [
       "   age  sex     bmi  children  smoker  region      charges\n",
       "0   19    1  27.900         0       0       0  16884.92400\n",
       "1   18    0  33.770         1       1       1   1725.55230\n",
       "2   28    0  33.000         3       1       1   4449.46200\n",
       "3   33    0  22.705         0       1       2  21984.47061\n",
       "4   32    0  28.880         0       1       2   3866.85520"
      ]
     },
     "execution_count": 18,
     "metadata": {
      "tags": []
     },
     "output_type": "execute_result"
    }
   ],
   "source": [
    "insurance_data.head()"
   ]
  },
  {
   "cell_type": "code",
   "execution_count": 19,
   "metadata": {
    "id": "SJ5X_Ux1GHIQ"
   },
   "outputs": [],
   "source": [
    "# splitting the feature and target\n",
    "X = insurance_data.drop(columns='charges', axis=1)\n",
    "Y = insurance_data['charges']"
   ]
  },
  {
   "cell_type": "code",
   "execution_count": 20,
   "metadata": {
    "id": "poZ6pHmqGY74"
   },
   "outputs": [],
   "source": [
    "# splitting the training and testing data\n",
    "X_train, X_test, Y_train, Y_test = train_test_split(X, Y, test_size=0.2, random_state=3)"
   ]
  },
  {
   "cell_type": "code",
   "execution_count": 21,
   "metadata": {
    "colab": {
     "base_uri": "https://localhost:8080/"
    },
    "id": "I6e5tSpRGpYZ",
    "outputId": "797c4705-6761-471e-c26f-1b660595c83a"
   },
   "outputs": [
    {
     "name": "stdout",
     "output_type": "stream",
     "text": [
      "(1338, 6) (1070, 6) (268, 6)\n"
     ]
    }
   ],
   "source": [
    "print(X.shape, X_train.shape, X_test.shape)"
   ]
  },
  {
   "cell_type": "markdown",
   "metadata": {
    "id": "Q_pednq2GvY3"
   },
   "source": [
    "Model Training"
   ]
  },
  {
   "cell_type": "code",
   "execution_count": 22,
   "metadata": {
    "colab": {
     "base_uri": "https://localhost:8080/"
    },
    "id": "qrgWtAwaGuAP",
    "outputId": "8e6cd9c8-1c5c-4156-ddbb-722666eef960"
   },
   "outputs": [
    {
     "data": {
      "text/plain": [
       "LinearRegression(copy_X=True, fit_intercept=True, n_jobs=None, normalize=False)"
      ]
     },
     "execution_count": 22,
     "metadata": {
      "tags": []
     },
     "output_type": "execute_result"
    }
   ],
   "source": [
    "model = LinearRegression()\n",
    "model.fit(X_train, Y_train)"
   ]
  },
  {
   "cell_type": "markdown",
   "metadata": {
    "id": "Qtcd8dKhG3p4"
   },
   "source": [
    "Model Evaluation"
   ]
  },
  {
   "cell_type": "code",
   "execution_count": 23,
   "metadata": {
    "colab": {
     "base_uri": "https://localhost:8080/"
    },
    "id": "HIH8GRz4G21W",
    "outputId": "e88014e4-c45d-4c8d-99bb-d5939d7cb923"
   },
   "outputs": [
    {
     "name": "stdout",
     "output_type": "stream",
     "text": [
      "[12924.27339003 32366.80465649 13740.14482981 ...  2814.27116126\n",
      "  5380.6366549   5866.52342479]\n"
     ]
    }
   ],
   "source": [
    "train_prediction = model.predict(X_train)\n",
    "print(train_prediction)"
   ]
  },
  {
   "cell_type": "code",
   "execution_count": 24,
   "metadata": {
    "colab": {
     "base_uri": "https://localhost:8080/"
    },
    "id": "zaKbd10QHAhD",
    "outputId": "c509e7f5-d982-4166-9138-2866813b3892"
   },
   "outputs": [
    {
     "name": "stdout",
     "output_type": "stream",
     "text": [
      "R squared error on training data:  0.7530732192579027\n"
     ]
    }
   ],
   "source": [
    "r2_train = metrics.r2_score(Y_train, train_prediction)\n",
    "print('R squared error on training data: ', r2_train)"
   ]
  },
  {
   "cell_type": "code",
   "execution_count": 25,
   "metadata": {
    "colab": {
     "base_uri": "https://localhost:8080/"
    },
    "id": "lqeb5CCGHY3X",
    "outputId": "23e64445-ff22-4540-adf5-766b575ea76d"
   },
   "outputs": [
    {
     "name": "stdout",
     "output_type": "stream",
     "text": [
      "[ 8.04556701e+03  9.01377066e+03  1.38957815e+03  1.14587495e+04\n",
      "  5.42376708e+03  1.23471634e+04  7.61730579e+03 -9.71334487e+02\n",
      "  1.11392520e+04  3.15201336e+03  1.17448278e+04  1.27873010e+04\n",
      "  7.65281783e+02  1.06999922e+04  9.31576863e+03  1.18140410e+04\n",
      "  7.15504476e+03  3.28848994e+03  1.69626887e+03  1.14224393e+04\n",
      "  1.12916918e+04  4.35813695e+03  6.77644717e+03  4.24321007e+03\n",
      "  1.54500187e+04  1.16050691e+04  6.65931990e+03  6.78746441e+03\n",
      "  5.10097821e+03  2.63242084e+03  1.82569422e+02  1.32103706e+04\n",
      "  5.72821740e+03  2.62505630e+03  1.37802229e+03  3.60696757e+04\n",
      "  6.70879848e+03  4.73302195e+03  2.05822443e+03  3.42996877e+03\n",
      "  3.87429931e+03  2.44588871e+04  1.49528862e+03  2.64355981e+04\n",
      "  3.35374677e+04  8.62509435e+03  1.06226384e+04  5.02339797e+03\n",
      "  2.98294000e+03  2.97328948e+04  9.71733193e+03  3.26435940e+04\n",
      "  2.21918833e+03  9.55667015e+03  3.67089837e+04  1.12847975e+04\n",
      "  3.25606356e+04  4.75104978e+03  8.44387843e+03  1.71981648e+04\n",
      "  3.31752980e+03  8.91984069e+03  1.40611972e+04  1.45064056e+04\n",
      "  7.31959180e+03  6.93363447e+03  3.04039608e+04  6.55596635e+03\n",
      "  3.72561911e+04  1.57308555e+04  5.75303906e+03  5.02302692e+03\n",
      "  3.06660256e+04  7.04162613e+03  1.20459267e+04 -1.29473008e+03\n",
      "  3.31137704e+04  8.14906853e+03  1.08045057e+04  5.71720389e+03\n",
      "  1.17950688e+04  1.56599687e+04  7.60901244e+03  9.62970401e+03\n",
      "  1.02300067e+04  2.57448877e+04  1.70220678e+04  1.17662609e+04\n",
      "  3.99912438e+04  3.04124821e+04  3.02150543e+04  3.39839917e+04\n",
      "  5.09683172e+03  4.54455728e+03  1.31334356e+04  2.80443577e+04\n",
      "  5.35035776e+03  9.27994401e+03  3.11316282e+04  2.71535265e+04\n",
      "  1.20135485e+04  8.11882878e+03  8.88274277e+03  1.01586931e+04\n",
      "  3.00387354e+04  7.81093206e+03  1.11274878e+04  1.40026561e+04\n",
      "  1.47432634e+04  7.79453137e+03  9.03617820e+03  8.42626277e+03\n",
      "  6.35054940e+03  3.17407462e+04  2.40557079e+03  2.49386614e+03\n",
      "  4.11181234e+03  3.66314034e+04  9.37550205e+03  1.09629605e+04\n",
      "  3.34916104e+04  5.01055502e+03  3.93774992e+04  6.79486766e+03\n",
      "  1.46739377e+04  1.10767487e+04  1.15085595e+04  1.60347036e+04\n",
      "  3.92690374e+04  2.42590966e+04  1.52971732e+04  1.04613845e+04\n",
      "  3.55500087e+03  7.15234122e+03 -2.39294068e+03  3.22473650e+03\n",
      "  1.33954841e+04  2.98054561e+04  7.49100613e+03  5.27572241e+03\n",
      "  1.49193821e+04  2.83938120e+04  8.16048858e+03  5.53532585e+03\n",
      " -5.76577552e+02  1.23184098e+04  1.04785750e+04  1.07927269e+04\n",
      "  8.07031081e+03  1.87724123e+04  6.49340303e+03  1.72039368e+04\n",
      "  1.43237018e+03 -5.60277144e+02  7.34323018e+03  8.22312285e+03\n",
      "  1.35054626e+04  1.23515419e+04  1.11380958e+04  3.49365864e+03\n",
      "  6.08762886e+03  1.27275867e+03  1.64552848e+04  9.65247205e+03\n",
      "  3.81291922e+03  2.80364987e+04  1.11904980e+04  1.02345462e+04\n",
      "  1.52279626e+04  3.70619744e+04  8.14762442e+03  2.77415485e+04\n",
      "  2.13512093e+03  1.25078167e+04  1.24543213e+04  1.51799021e+03\n",
      "  3.87267490e+04  1.42218187e+04  5.25198204e+03  3.57002484e+04\n",
      "  1.13992155e+04  2.73077031e+04  1.12268559e+04  1.55414104e+04\n",
      "  1.12083008e+04 -6.86193528e+02  4.44530375e+03  5.43806929e+03\n",
      "  1.15618168e+04  1.08970617e+04  3.38560719e+04  1.04100076e+04\n",
      "  1.78085324e+04  2.27267765e+04  1.16495719e+04  9.58417748e+03\n",
      "  1.54206527e+04  3.96578638e+04 -5.94380393e+02  3.89091038e+03\n",
      "  5.20286512e+03  3.13721740e+03  5.45819936e+03  5.50161234e+03\n",
      "  5.63457040e+03  5.08363937e+03  3.03582626e+03  1.64137681e+04\n",
      "  1.12946967e+04  3.70776767e+04  1.03929395e+04  2.66926179e+04\n",
      "  1.27796242e+04  2.91485588e+03  2.88641492e+03  2.96700534e+03\n",
      "  2.69573075e+04  3.02767605e+03  1.82064345e+04  8.59315767e+02\n",
      "  1.41823320e+04  1.18049922e+04  5.29831060e+03  5.93602607e+03\n",
      "  3.77313546e+04  3.36650278e+03  2.97758132e+04  1.47868824e+04\n",
      "  9.63193542e+03  1.23666987e+04  9.52730741e+03  2.71347610e+04\n",
      "  3.29965888e+04  3.52205658e+04  3.86627543e+04  8.33170938e+03\n",
      "  1.01804810e+04  7.49671130e+03  3.82315238e+03  2.83194491e+04\n",
      " -1.07954685e+01  6.31116297e+03  3.60752138e+03  3.06022363e+04\n",
      "  9.89597511e+03  7.35003447e+03  3.58289931e+04  3.97536244e+04\n",
      "  2.24394594e+03  5.78440989e+03  3.16048347e+04  9.22294393e+03\n",
      "  1.03901308e+04  1.09216873e+04  3.47520257e+04  1.56494758e+04\n",
      "  2.61785078e+03  2.57068605e+04  6.92194523e+03  1.64246137e+04\n",
      "  4.22941095e+03  1.86449803e+04  3.50390735e+04  2.65209523e+04\n",
      "  8.19038793e+03  9.92921155e+03  1.36036495e+04  6.64393236e+03]\n"
     ]
    }
   ],
   "source": [
    "# prediction on test data\n",
    "test_prediction = model.predict(X_test)\n",
    "print(test_prediction)"
   ]
  },
  {
   "cell_type": "code",
   "execution_count": 26,
   "metadata": {
    "colab": {
     "base_uri": "https://localhost:8080/"
    },
    "id": "4Q4adHOnHnZj",
    "outputId": "137a1e61-f5c0-4df7-ef3a-cdad6ec79649"
   },
   "outputs": [
    {
     "name": "stdout",
     "output_type": "stream",
     "text": [
      "R squared error on test data:  0.7406256738597919\n"
     ]
    }
   ],
   "source": [
    "r2_test = metrics.r2_score(Y_test, test_prediction)\n",
    "print('R squared error on test data: ', r2_test)"
   ]
  },
  {
   "cell_type": "markdown",
   "metadata": {
    "id": "sIUjoFjDH6lp"
   },
   "source": [
    "Building a predictive system"
   ]
  },
  {
   "cell_type": "code",
   "execution_count": 29,
   "metadata": {
    "colab": {
     "base_uri": "https://localhost:8080/"
    },
    "id": "j0IYDhoQH4IE",
    "outputId": "77e31bc4-ce13-43f0-e465-bf8898bd9cda"
   },
   "outputs": [
    {
     "name": "stdout",
     "output_type": "stream",
     "text": [
      "[3469.45345569]\n",
      "The insurance cost in USD:  3469.4534556898434\n"
     ]
    }
   ],
   "source": [
    "input_data = (31,1,25.74,0,1,0)\n",
    "\n",
    "# change to numpy array\n",
    "input_numpy = np.asarray(input_data)\n",
    "\n",
    "# reshape data as just for one instance\n",
    "input_reshaped = input_numpy.reshape(1, -1)\n",
    "\n",
    "prediction = model.predict(input_reshaped)\n",
    "print(prediction)\n",
    "\n",
    "print('The insurance cost in USD: ', prediction[0])"
   ]
  },
  {
   "cell_type": "code",
   "execution_count": null,
   "metadata": {
    "id": "ygLYY_WGIjLE"
   },
   "outputs": [],
   "source": []
  }
 ],
 "metadata": {
  "colab": {
   "collapsed_sections": [],
   "name": "11. Medical Insurance Cost Prediction.ipynb",
   "provenance": []
  },
  "kernelspec": {
   "display_name": "Python 3 (ipykernel)",
   "language": "python",
   "name": "python3"
  },
  "language_info": {
   "codemirror_mode": {
    "name": "ipython",
    "version": 3
   },
   "file_extension": ".py",
   "mimetype": "text/x-python",
   "name": "python",
   "nbconvert_exporter": "python",
   "pygments_lexer": "ipython3",
   "version": "3.8.10"
  }
 },
 "nbformat": 4,
 "nbformat_minor": 1
}
